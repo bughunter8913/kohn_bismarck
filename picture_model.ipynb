{
 "cells": [
  {
   "cell_type": "code",
   "execution_count": 5,
   "id": "6674eafd",
   "metadata": {},
   "outputs": [
    {
     "name": "stdout",
     "output_type": "stream",
     "text": [
      "Verwende Gerät: cpu\n",
      "Numerische Spalten (39): ['scrape_id', 'host_id', 'host_listings_count', 'host_total_listings_count', 'neighbourhood_group_cleansed']...\n",
      "Kategorische Spalten (33): ['listing_url', 'last_scraped', 'source', 'name', 'description']...\n",
      "Finale Datenform: (4287, 174)\n",
      "Feature-Spalten: 171\n"
     ]
    },
    {
     "name": "stderr",
     "output_type": "stream",
     "text": [
      "Bilder verarbeiten:   1%|          | 28/4287 [00:12<25:32,  2.78it/s]"
     ]
    },
    {
     "name": "stdout",
     "output_type": "stream",
     "text": [
      "Fehler bei Index 27: 403 Client Error: Forbidden for url: https://a0.muscache.com/pictures/108908124/d0761b22_original.jpg\n"
     ]
    },
    {
     "name": "stderr",
     "output_type": "stream",
     "text": [
      "Bilder verarbeiten:   2%|▏         | 99/4287 [00:43<22:08,  3.15it/s]"
     ]
    },
    {
     "name": "stdout",
     "output_type": "stream",
     "text": [
      "Fehler bei Index 98: 403 Client Error: Forbidden for url: https://a0.muscache.com/pictures/c9155a77-4e66-4d73-9f61-e7a025d91e70.jpg\n"
     ]
    },
    {
     "name": "stderr",
     "output_type": "stream",
     "text": [
      "Bilder verarbeiten:   4%|▍         | 191/4287 [01:15<20:12,  3.38it/s]"
     ]
    },
    {
     "name": "stdout",
     "output_type": "stream",
     "text": [
      "Fehler bei Index 190: 403 Client Error: Forbidden for url: https://a0.muscache.com/pictures/hosting/Hosting-17755730/original/dac9caa7-735c-4dd1-a685-cd7501f8d866.jpeg\n"
     ]
    },
    {
     "name": "stderr",
     "output_type": "stream",
     "text": [
      "Bilder verarbeiten:   5%|▍         | 195/4287 [01:16<17:13,  3.96it/s]"
     ]
    },
    {
     "name": "stdout",
     "output_type": "stream",
     "text": [
      "Fehler bei Index 193: 403 Client Error: Forbidden for url: https://a0.muscache.com/pictures/miso/Hosting-17988579/original/5643a37b-6d1f-4d89-ae54-7faaf36b3072.jpeg\n"
     ]
    },
    {
     "name": "stderr",
     "output_type": "stream",
     "text": [
      "Bilder verarbeiten:   6%|▌         | 249/4287 [01:35<29:14,  2.30it/s]"
     ]
    },
    {
     "name": "stdout",
     "output_type": "stream",
     "text": [
      "Fehler bei Index 248: 403 Client Error: Forbidden for url: https://a0.muscache.com/pictures/hosting/Hosting-19929641/original/314553b4-4345-4c6e-be47-34bb3bf46fab.jpeg\n"
     ]
    },
    {
     "name": "stderr",
     "output_type": "stream",
     "text": [
      "Bilder verarbeiten:   7%|▋         | 295/4287 [01:54<26:55,  2.47it/s]"
     ]
    },
    {
     "name": "stdout",
     "output_type": "stream",
     "text": [
      "Fehler bei Index 294: 403 Client Error: Forbidden for url: https://a0.muscache.com/pictures/miso/Hosting-21363746/original/18e23e45-8628-47b6-8b8a-9b54b2d57892.jpeg\n"
     ]
    },
    {
     "name": "stderr",
     "output_type": "stream",
     "text": [
      "Bilder verarbeiten:   7%|▋         | 305/4287 [01:57<22:34,  2.94it/s]"
     ]
    },
    {
     "name": "stdout",
     "output_type": "stream",
     "text": [
      "Fehler bei Index 304: 403 Client Error: Forbidden for url: https://a0.muscache.com/pictures/c173be32-f03a-4cda-87a6-372cbbb60cda.jpg\n"
     ]
    },
    {
     "name": "stderr",
     "output_type": "stream",
     "text": [
      "Bilder verarbeiten:   8%|▊         | 329/4287 [02:06<23:44,  2.78it/s]"
     ]
    },
    {
     "name": "stdout",
     "output_type": "stream",
     "text": [
      "Fehler bei Index 328: 403 Client Error: Forbidden for url: https://a0.muscache.com/pictures/miso/Hosting-22259428/original/f48c8c6c-51e0-40fe-96b6-58f899e47444.jpeg\n"
     ]
    },
    {
     "name": "stderr",
     "output_type": "stream",
     "text": [
      "Bilder verarbeiten:   9%|▉         | 388/4287 [02:25<11:22,  5.71it/s]"
     ]
    },
    {
     "name": "stdout",
     "output_type": "stream",
     "text": [
      "Fehler bei Index 387: 403 Client Error: Forbidden for url: https://a0.muscache.com/pictures/cfdeb380-5105-4e29-bcf0-45e2e6f44c6f.jpg\n"
     ]
    },
    {
     "name": "stderr",
     "output_type": "stream",
     "text": [
      "Bilder verarbeiten:   9%|▉         | 390/4287 [02:25<15:25,  4.21it/s]"
     ]
    },
    {
     "name": "stdout",
     "output_type": "stream",
     "text": [
      "Fehler bei Index 389: 403 Client Error: Forbidden for url: https://a0.muscache.com/pictures/3f77e47f-6e94-44de-8d6b-4f77229e0d72.jpg\n"
     ]
    },
    {
     "name": "stderr",
     "output_type": "stream",
     "text": [
      "Bilder verarbeiten:  10%|▉         | 424/4287 [02:38<21:13,  3.03it/s]"
     ]
    },
    {
     "name": "stdout",
     "output_type": "stream",
     "text": [
      "Fehler bei Index 423: 403 Client Error: Forbidden for url: https://a0.muscache.com/pictures/2321dbae-29bc-498f-ae30-0c4d317ab0e2.jpg\n"
     ]
    },
    {
     "name": "stderr",
     "output_type": "stream",
     "text": [
      "Bilder verarbeiten:  14%|█▎        | 587/4287 [03:39<15:34,  3.96it/s]  "
     ]
    },
    {
     "name": "stdout",
     "output_type": "stream",
     "text": [
      "Fehler bei Index 586: 403 Client Error: Forbidden for url: https://a0.muscache.com/pictures/miso/Hosting-31033476/original/551186ba-1cfb-41b7-b084-b5a7953bca4d.jpeg\n"
     ]
    },
    {
     "name": "stderr",
     "output_type": "stream",
     "text": [
      "Bilder verarbeiten:  14%|█▍        | 594/4287 [03:41<15:42,  3.92it/s]"
     ]
    },
    {
     "name": "stdout",
     "output_type": "stream",
     "text": [
      "Fehler bei Index 593: 403 Client Error: Forbidden for url: https://a0.muscache.com/pictures/hosting/Hosting-31171950/original/0c7a1db9-01b5-4502-87ec-78fefd644565.jpeg\n"
     ]
    },
    {
     "name": "stderr",
     "output_type": "stream",
     "text": [
      "Bilder verarbeiten:  15%|█▍        | 626/4287 [03:52<15:54,  3.84it/s]"
     ]
    },
    {
     "name": "stdout",
     "output_type": "stream",
     "text": [
      "Fehler bei Index 624: 403 Client Error: Forbidden for url: https://a0.muscache.com/pictures/99688a8f-25fb-40a8-a587-9a6e8003c7aa.jpg\n"
     ]
    },
    {
     "name": "stderr",
     "output_type": "stream",
     "text": [
      "Bilder verarbeiten:  16%|█▌        | 685/4287 [04:21<20:04,  2.99it/s]  "
     ]
    },
    {
     "name": "stdout",
     "output_type": "stream",
     "text": [
      "Fehler bei Index 684: 403 Client Error: Forbidden for url: https://a0.muscache.com/pictures/934f62e2-7dff-4c36-ac0d-78237cc5958b.jpg\n"
     ]
    },
    {
     "name": "stderr",
     "output_type": "stream",
     "text": [
      "Bilder verarbeiten:  17%|█▋        | 718/4287 [04:30<20:21,  2.92it/s]"
     ]
    },
    {
     "name": "stdout",
     "output_type": "stream",
     "text": [
      "Fehler bei Index 717: 403 Client Error: Forbidden for url: https://a0.muscache.com/pictures/32a4afea-3eef-4464-b5ed-7aaeaf8029cc.jpg\n"
     ]
    },
    {
     "name": "stderr",
     "output_type": "stream",
     "text": [
      "Bilder verarbeiten:  17%|█▋        | 726/4287 [04:32<11:18,  5.25it/s]"
     ]
    },
    {
     "name": "stdout",
     "output_type": "stream",
     "text": [
      "Fehler bei Index 724: 403 Client Error: Forbidden for url: https://a0.muscache.com/pictures/hosting/Hosting-34555679/original/e4f825b8-4eb1-4313-892c-5444b5048eaa.jpeg\n"
     ]
    },
    {
     "name": "stderr",
     "output_type": "stream",
     "text": [
      "Bilder verarbeiten:  18%|█▊        | 767/4287 [04:46<13:18,  4.41it/s]"
     ]
    },
    {
     "name": "stdout",
     "output_type": "stream",
     "text": [
      "Fehler bei Index 765: 403 Client Error: Forbidden for url: https://a0.muscache.com/pictures/miso/Hosting-35783525/original/1f97c669-3316-4e75-99fc-7e433ab8f778.jpeg\n"
     ]
    },
    {
     "name": "stderr",
     "output_type": "stream",
     "text": [
      "Bilder verarbeiten:  18%|█▊        | 773/4287 [04:47<10:42,  5.47it/s]"
     ]
    },
    {
     "name": "stdout",
     "output_type": "stream",
     "text": [
      "Fehler bei Index 771: 403 Client Error: Forbidden for url: https://a0.muscache.com/pictures/e0113efb-db31-4509-868e-e65ccd345d48.jpg\n"
     ]
    },
    {
     "name": "stderr",
     "output_type": "stream",
     "text": [
      "Bilder verarbeiten:  19%|█▉        | 812/4287 [05:02<23:10,  2.50it/s]"
     ]
    },
    {
     "name": "stdout",
     "output_type": "stream",
     "text": [
      "Fehler bei Index 811: 403 Client Error: Forbidden for url: https://a0.muscache.com/pictures/b5d9fef3-df57-4b90-836a-b866196dd9d7.jpg\n"
     ]
    },
    {
     "name": "stderr",
     "output_type": "stream",
     "text": [
      "Bilder verarbeiten:  20%|██        | 869/4287 [05:24<16:52,  3.38it/s]"
     ]
    },
    {
     "name": "stdout",
     "output_type": "stream",
     "text": [
      "Fehler bei Index 868: 403 Client Error: Forbidden for url: https://a0.muscache.com/pictures/3f0111ac-25c4-46dd-8674-b537ea88dfed.jpg\n"
     ]
    },
    {
     "name": "stderr",
     "output_type": "stream",
     "text": [
      "Bilder verarbeiten:  21%|██        | 897/4287 [05:31<10:55,  5.17it/s]"
     ]
    },
    {
     "name": "stdout",
     "output_type": "stream",
     "text": [
      "Fehler bei Index 895: 403 Client Error: Forbidden for url: https://a0.muscache.com/pictures/b5941c22-7d47-4edc-a1f5-e0aac197231a.jpg\n"
     ]
    },
    {
     "name": "stderr",
     "output_type": "stream",
     "text": [
      "Bilder verarbeiten:  22%|██▏       | 924/4287 [05:42<22:47,  2.46it/s]"
     ]
    },
    {
     "name": "stdout",
     "output_type": "stream",
     "text": [
      "Fehler bei Index 923: 403 Client Error: Forbidden for url: https://a0.muscache.com/pictures/miso/Hosting-39789489/original/a963a939-c2c1-4f43-80ca-cd116a1abff2.jpeg\n"
     ]
    },
    {
     "name": "stderr",
     "output_type": "stream",
     "text": [
      "Bilder verarbeiten:  22%|██▏       | 927/4287 [05:42<13:55,  4.02it/s]"
     ]
    },
    {
     "name": "stdout",
     "output_type": "stream",
     "text": [
      "Fehler bei Index 925: 403 Client Error: Forbidden for url: https://a0.muscache.com/pictures/e90566e0-968d-4db9-b3b0-6cf20eab9021.jpg\n",
      "Fehler bei Index 926: 403 Client Error: Forbidden for url: https://a0.muscache.com/pictures/miso/Hosting-39791217/original/2756c7d1-16c7-4393-9f46-113bf02d30b2.jpeg\n"
     ]
    },
    {
     "name": "stderr",
     "output_type": "stream",
     "text": [
      "Bilder verarbeiten:  23%|██▎       | 994/4287 [06:06<13:17,  4.13it/s]"
     ]
    },
    {
     "name": "stdout",
     "output_type": "stream",
     "text": [
      "Fehler bei Index 993: 403 Client Error: Forbidden for url: https://a0.muscache.com/pictures/f50fc161-a17d-4a2c-a99e-048dbdc2ad87.jpg\n"
     ]
    },
    {
     "name": "stderr",
     "output_type": "stream",
     "text": [
      "Bilder verarbeiten:  25%|██▌       | 1088/4287 [06:38<16:35,  3.21it/s]"
     ]
    },
    {
     "name": "stdout",
     "output_type": "stream",
     "text": [
      "Fehler bei Index 1087: 403 Client Error: Forbidden for url: https://a0.muscache.com/pictures/miso/Hosting-44563051/original/1b112fe7-fbf4-4c09-a6b8-208a472e52d0.jpeg\n"
     ]
    },
    {
     "name": "stderr",
     "output_type": "stream",
     "text": [
      "Bilder verarbeiten:  26%|██▌       | 1103/4287 [06:41<14:56,  3.55it/s]"
     ]
    },
    {
     "name": "stdout",
     "output_type": "stream",
     "text": [
      "Fehler bei Index 1102: 403 Client Error: Forbidden for url: https://a0.muscache.com/pictures/dd896760-7124-4867-9b9c-d56544f1de0f.jpg\n"
     ]
    },
    {
     "name": "stderr",
     "output_type": "stream",
     "text": [
      "Bilder verarbeiten:  29%|██▉       | 1236/4287 [07:16<14:52,  3.42it/s]"
     ]
    },
    {
     "name": "stdout",
     "output_type": "stream",
     "text": [
      "Fehler bei Index 1234: 403 Client Error: Forbidden for url: https://a0.muscache.com/pictures/117be2ff-9e10-489e-ba8d-d57e442c60fc.jpg\n"
     ]
    },
    {
     "name": "stderr",
     "output_type": "stream",
     "text": [
      "Bilder verarbeiten:  30%|███       | 1291/4287 [07:41<12:49,  3.90it/s]"
     ]
    },
    {
     "name": "stdout",
     "output_type": "stream",
     "text": [
      "Fehler bei Index 1290: 403 Client Error: Forbidden for url: https://a0.muscache.com/pictures/miso/Hosting-51232915/original/0c24bd52-1cf9-4ecf-89f1-7b0dd1f9c0eb.jpeg\n"
     ]
    },
    {
     "name": "stderr",
     "output_type": "stream",
     "text": [
      "Bilder verarbeiten:  31%|███       | 1327/4287 [07:51<10:21,  4.76it/s]"
     ]
    },
    {
     "name": "stdout",
     "output_type": "stream",
     "text": [
      "Fehler bei Index 1326: 403 Client Error: Forbidden for url: https://a0.muscache.com/pictures/3ba22d5b-3f9a-471f-8a80-9027a8a0e5c1.jpg\n"
     ]
    },
    {
     "name": "stderr",
     "output_type": "stream",
     "text": [
      "Bilder verarbeiten:  31%|███       | 1338/4287 [07:54<09:17,  5.29it/s]"
     ]
    },
    {
     "name": "stdout",
     "output_type": "stream",
     "text": [
      "Fehler bei Index 1337: 403 Client Error: Forbidden for url: https://a0.muscache.com/pictures/2297b4df-36ee-4a8d-be06-154c4a6f1cf4.jpg\n"
     ]
    },
    {
     "name": "stderr",
     "output_type": "stream",
     "text": [
      "Bilder verarbeiten:  34%|███▍      | 1475/4287 [08:37<07:46,  6.03it/s]  "
     ]
    },
    {
     "name": "stdout",
     "output_type": "stream",
     "text": [
      "Fehler bei Index 1473: 403 Client Error: Forbidden for url: https://a0.muscache.com/pictures/miso/Hosting-556511883977822372/original/939ad877-c03e-4564-87c1-0722bc23dffe.jpeg\n",
      "Fehler bei Index 1474: 403 Client Error: Forbidden for url: https://a0.muscache.com/pictures/miso/Hosting-556511883977822372/original/939ad877-c03e-4564-87c1-0722bc23dffe.jpeg\n"
     ]
    },
    {
     "name": "stderr",
     "output_type": "stream",
     "text": [
      "Bilder verarbeiten:  34%|███▍      | 1476/4287 [08:37<07:48,  6.01it/s]"
     ]
    },
    {
     "name": "stdout",
     "output_type": "stream",
     "text": [
      "Fehler bei Index 1475: 403 Client Error: Forbidden for url: https://a0.muscache.com/pictures/hosting/Hosting-U3RheVN1cHBseUxpc3Rpbmc6NTU3MzQyMzUxMDcwNDI2Mjkw/original/ef900ddc-ed48-4df0-992c-2a4ed87724f7.jpeg\n"
     ]
    },
    {
     "name": "stderr",
     "output_type": "stream",
     "text": [
      "Bilder verarbeiten:  35%|███▍      | 1480/4287 [08:38<08:59,  5.20it/s]"
     ]
    },
    {
     "name": "stdout",
     "output_type": "stream",
     "text": [
      "Fehler bei Index 1478: 403 Client Error: Forbidden for url: https://a0.muscache.com/pictures/049d40bf-13b4-4fa4-814f-5eddaac38807.jpg\n",
      "Fehler bei Index 1479: 403 Client Error: Forbidden for url: https://a0.muscache.com/pictures/hosting/Hosting-U3RheVN1cHBseUxpc3Rpbmc6NTU4MjUzMzkzNzU1OTA4NjAx/original/637afdb3-780a-4004-8f0c-049ebcb33df7.jpeg\n"
     ]
    },
    {
     "name": "stderr",
     "output_type": "stream",
     "text": [
      "Bilder verarbeiten:  35%|███▍      | 1482/4287 [08:38<08:15,  5.66it/s]"
     ]
    },
    {
     "name": "stdout",
     "output_type": "stream",
     "text": [
      "Fehler bei Index 1480: 403 Client Error: Forbidden for url: https://a0.muscache.com/pictures/miso/Hosting-556511883977822372/original/939ad877-c03e-4564-87c1-0722bc23dffe.jpeg\n",
      "Fehler bei Index 1481: 403 Client Error: Forbidden for url: https://a0.muscache.com/pictures/miso/Hosting-556511883977822372/original/d6386598-cc50-499c-abc4-3c9b5aaabadd.jpeg\n"
     ]
    },
    {
     "name": "stderr",
     "output_type": "stream",
     "text": [
      "Bilder verarbeiten:  35%|███▌      | 1503/4287 [08:45<11:18,  4.10it/s]"
     ]
    },
    {
     "name": "stdout",
     "output_type": "stream",
     "text": [
      "Fehler bei Index 1502: 403 Client Error: Forbidden for url: https://a0.muscache.com/pictures/hosting/Hosting-U3RheVN1cHBseUxpc3Rpbmc6NTcyODc2NjI2MTgxOTY3MzA0/original/77697a5f-5874-4bef-a031-139649d740d1.jpeg\n"
     ]
    },
    {
     "name": "stderr",
     "output_type": "stream",
     "text": [
      "Bilder verarbeiten:  37%|███▋      | 1591/4287 [09:13<12:00,  3.74it/s]"
     ]
    },
    {
     "name": "stdout",
     "output_type": "stream",
     "text": [
      "Fehler bei Index 1589: 403 Client Error: Forbidden for url: https://a0.muscache.com/pictures/1701076b-4d9c-4344-b94a-81daaff6c95e.jpg\n"
     ]
    },
    {
     "name": "stderr",
     "output_type": "stream",
     "text": [
      "Bilder verarbeiten:  38%|███▊      | 1633/4287 [09:33<13:10,  3.36it/s]"
     ]
    },
    {
     "name": "stdout",
     "output_type": "stream",
     "text": [
      "Fehler bei Index 1631: 403 Client Error: Forbidden for url: https://a0.muscache.com/pictures/miso/Hosting-625974870986667584/original/afb60d59-b990-4926-93ef-de38541424e4.jpeg\n"
     ]
    },
    {
     "name": "stderr",
     "output_type": "stream",
     "text": [
      "Bilder verarbeiten:  40%|███▉      | 1697/4287 [09:52<08:36,  5.01it/s]"
     ]
    },
    {
     "name": "stdout",
     "output_type": "stream",
     "text": [
      "Fehler bei Index 1696: 403 Client Error: Forbidden for url: https://a0.muscache.com/pictures/prohost-api/Hosting-650237413609703492/original/4caf4290-91b3-4e0b-936f-f6bf70541f2a.jpeg\n"
     ]
    },
    {
     "name": "stderr",
     "output_type": "stream",
     "text": [
      "Bilder verarbeiten:  40%|███▉      | 1703/4287 [09:54<11:06,  3.87it/s]"
     ]
    },
    {
     "name": "stdout",
     "output_type": "stream",
     "text": [
      "Fehler bei Index 1702: 403 Client Error: Forbidden for url: https://a0.muscache.com/pictures/6b7231bb-cb23-411f-af84-ffb204e851c8.jpg\n"
     ]
    },
    {
     "name": "stderr",
     "output_type": "stream",
     "text": [
      "Bilder verarbeiten:  40%|███▉      | 1707/4287 [09:56<12:18,  3.49it/s]"
     ]
    },
    {
     "name": "stdout",
     "output_type": "stream",
     "text": [
      "Fehler bei Index 1706: 403 Client Error: Forbidden for url: https://a0.muscache.com/pictures/hosting/Hosting-U3RheVN1cHBseUxpc3Rpbmc6NjU2MzMyMDI2OTU4NDA2Nzkx/original/2c76d2a1-c2ad-4275-8a61-288c5b0f1ea3.jpeg\n"
     ]
    },
    {
     "name": "stderr",
     "output_type": "stream",
     "text": [
      "Bilder verarbeiten:  41%|████      | 1756/4287 [10:11<12:35,  3.35it/s]"
     ]
    },
    {
     "name": "stdout",
     "output_type": "stream",
     "text": [
      "Fehler bei Index 1755: 403 Client Error: Forbidden for url: https://a0.muscache.com/pictures/miso/Hosting-689948714164970429/original/d3d5b0e7-0037-40a9-b821-d2e4abfd5c27.jpeg\n"
     ]
    },
    {
     "name": "stderr",
     "output_type": "stream",
     "text": [
      "Bilder verarbeiten:  41%|████▏     | 1772/4287 [10:19<11:15,  3.72it/s]"
     ]
    },
    {
     "name": "stdout",
     "output_type": "stream",
     "text": [
      "Fehler bei Index 1770: 403 Client Error: Forbidden for url: https://a0.muscache.com/pictures/85027bc0-d81b-4910-83eb-958d052c7d4b.jpg\n"
     ]
    },
    {
     "name": "stderr",
     "output_type": "stream",
     "text": [
      "Bilder verarbeiten:  42%|████▏     | 1784/4287 [10:21<09:36,  4.34it/s]"
     ]
    },
    {
     "name": "stdout",
     "output_type": "stream",
     "text": [
      "Fehler bei Index 1783: 403 Client Error: Forbidden for url: https://a0.muscache.com/pictures/hosting/Hosting-704095363790715678/original/d02eb75c-31d1-43e9-b2de-b96cad88e286.jpeg\n"
     ]
    },
    {
     "name": "stderr",
     "output_type": "stream",
     "text": [
      "Bilder verarbeiten:  43%|████▎     | 1834/4287 [10:37<10:04,  4.06it/s]"
     ]
    },
    {
     "name": "stdout",
     "output_type": "stream",
     "text": [
      "Fehler bei Index 1833: 403 Client Error: Forbidden for url: https://a0.muscache.com/pictures/miso/Hosting-725146016534293505/original/50cf0f3d-e1de-43d2-9e48-b6e2ce2a0e21.jpeg\n"
     ]
    },
    {
     "name": "stderr",
     "output_type": "stream",
     "text": [
      "Bilder verarbeiten:  43%|████▎     | 1849/4287 [10:42<09:44,  4.17it/s]"
     ]
    },
    {
     "name": "stdout",
     "output_type": "stream",
     "text": [
      "Fehler bei Index 1848: 403 Client Error: Forbidden for url: https://a0.muscache.com/pictures/hosting/Hosting-U3RheVN1cHBseUxpc3Rpbmc6NzI5NTcxMjk0OTkyNzQzMjk4/original/9f869fdf-d18f-4326-91e5-4bcc12238816.jpeg\n"
     ]
    },
    {
     "name": "stderr",
     "output_type": "stream",
     "text": [
      "Bilder verarbeiten:  44%|████▍     | 1880/4287 [10:51<12:52,  3.12it/s]"
     ]
    },
    {
     "name": "stdout",
     "output_type": "stream",
     "text": [
      "Fehler bei Index 1879: 403 Client Error: Forbidden for url: https://a0.muscache.com/pictures/6d5390f0-004c-44ab-9d29-f7ff132bda3c.jpg\n"
     ]
    },
    {
     "name": "stderr",
     "output_type": "stream",
     "text": [
      "Bilder verarbeiten:  44%|████▍     | 1891/4287 [10:54<06:42,  5.95it/s]"
     ]
    },
    {
     "name": "stdout",
     "output_type": "stream",
     "text": [
      "Fehler bei Index 1889: 403 Client Error: Forbidden for url: https://a0.muscache.com/pictures/miso/Hosting-743900462081391423/original/b8bb21ef-0dc9-40cf-8840-9d9adec98363.jpeg\n"
     ]
    },
    {
     "name": "stderr",
     "output_type": "stream",
     "text": [
      "Bilder verarbeiten:  47%|████▋     | 2007/4287 [11:29<15:58,  2.38it/s]"
     ]
    },
    {
     "name": "stdout",
     "output_type": "stream",
     "text": [
      "Fehler bei Index 2006: 403 Client Error: Forbidden for url: https://a0.muscache.com/pictures/miso/Hosting-800794909950594774/original/51f75684-fa19-49e5-a2e0-f5019b368da9.jpeg\n"
     ]
    },
    {
     "name": "stderr",
     "output_type": "stream",
     "text": [
      "Bilder verarbeiten:  47%|████▋     | 2018/4287 [11:31<08:16,  4.57it/s]"
     ]
    },
    {
     "name": "stdout",
     "output_type": "stream",
     "text": [
      "Fehler bei Index 2016: 403 Client Error: Forbidden for url: https://a0.muscache.com/pictures/7b11c021-3996-4897-acec-48a256f48f84.jpg\n"
     ]
    },
    {
     "name": "stderr",
     "output_type": "stream",
     "text": [
      "Bilder verarbeiten:  48%|████▊     | 2060/4287 [11:53<17:39,  2.10it/s]"
     ]
    },
    {
     "name": "stdout",
     "output_type": "stream",
     "text": [
      "Fehler bei Index 2058: 403 Client Error: Forbidden for url: https://a0.muscache.com/pictures/hosting/Hosting-826669437045818644/original/52e80e41-0d34-4944-82e1-582e4460b0bd.jpeg\n"
     ]
    },
    {
     "name": "stderr",
     "output_type": "stream",
     "text": [
      "Bilder verarbeiten:  48%|████▊     | 2078/4287 [12:04<10:10,  3.62it/s]"
     ]
    },
    {
     "name": "stdout",
     "output_type": "stream",
     "text": [
      "Fehler bei Index 2076: 403 Client Error: Forbidden for url: https://a0.muscache.com/pictures/miso/Hosting-832447199006419270/original/7dc8ac53-ab87-4848-b7fb-2d737990ccc9.jpeg\n"
     ]
    },
    {
     "name": "stderr",
     "output_type": "stream",
     "text": [
      "Bilder verarbeiten:  49%|████▊     | 2086/4287 [12:07<10:46,  3.40it/s]"
     ]
    },
    {
     "name": "stdout",
     "output_type": "stream",
     "text": [
      "Fehler bei Index 2084: 403 Client Error: Forbidden for url: https://a0.muscache.com/pictures/miso/Hosting-834655822911911035/original/74228c44-4e63-4cd9-ae3a-2969ef2df7a8.jpeg\n"
     ]
    },
    {
     "name": "stderr",
     "output_type": "stream",
     "text": [
      "Bilder verarbeiten:  49%|████▉     | 2105/4287 [12:12<08:03,  4.51it/s]"
     ]
    },
    {
     "name": "stdout",
     "output_type": "stream",
     "text": [
      "Fehler bei Index 2103: 403 Client Error: Forbidden for url: https://a0.muscache.com/pictures/miso/Hosting-839767937335531052/original/06892b02-0fcb-4ccf-9c1f-e56e8591fc17.jpeg\n"
     ]
    },
    {
     "name": "stderr",
     "output_type": "stream",
     "text": [
      "Bilder verarbeiten:  50%|█████     | 2163/4287 [12:33<08:58,  3.95it/s]"
     ]
    },
    {
     "name": "stdout",
     "output_type": "stream",
     "text": [
      "Fehler bei Index 2161: 403 Client Error: Forbidden for url: https://a0.muscache.com/pictures/hosting/Hosting-858521480438358193/original/ef19c6e8-fa2f-487c-be3c-9bdf42c6ecda.jpeg\n"
     ]
    },
    {
     "name": "stderr",
     "output_type": "stream",
     "text": [
      "Bilder verarbeiten:  51%|█████     | 2192/4287 [12:43<12:31,  2.79it/s]"
     ]
    },
    {
     "name": "stdout",
     "output_type": "stream",
     "text": [
      "Fehler bei Index 2191: 403 Client Error: Forbidden for url: https://a0.muscache.com/pictures/hosting/Hosting-U3RheVN1cHBseUxpc3Rpbmc6ODY0NDQ4NjE0MjUxNDMwMjk4/original/6bfa5d85-dc8f-4d96-912d-8fa331b73c2f.jpeg\n"
     ]
    },
    {
     "name": "stderr",
     "output_type": "stream",
     "text": [
      "Bilder verarbeiten:  51%|█████     | 2195/4287 [12:44<13:36,  2.56it/s]"
     ]
    },
    {
     "name": "stdout",
     "output_type": "stream",
     "text": [
      "Fehler bei Index 2194: 403 Client Error: Forbidden for url: https://a0.muscache.com/pictures/e6d75ff7-c7ef-4b79-9cf4-deb28fb16834.jpg\n"
     ]
    },
    {
     "name": "stderr",
     "output_type": "stream",
     "text": [
      "Bilder verarbeiten:  52%|█████▏    | 2218/4287 [12:52<12:23,  2.78it/s]"
     ]
    },
    {
     "name": "stdout",
     "output_type": "stream",
     "text": [
      "Fehler bei Index 2217: 403 Client Error: Forbidden for url: https://a0.muscache.com/pictures/miso/Hosting-872350731797629816/original/85f235d0-b180-4307-a101-4a82e1b0d7dd.jpeg\n"
     ]
    },
    {
     "name": "stderr",
     "output_type": "stream",
     "text": [
      "Bilder verarbeiten:  52%|█████▏    | 2224/4287 [12:53<09:27,  3.63it/s]"
     ]
    },
    {
     "name": "stdout",
     "output_type": "stream",
     "text": [
      "Fehler bei Index 2222: 403 Client Error: Forbidden for url: https://a0.muscache.com/pictures/miso/Hosting-873760221403457515/original/6ce626eb-e347-49f9-9fd2-09b4a3dce6a7.jpeg\n"
     ]
    },
    {
     "name": "stderr",
     "output_type": "stream",
     "text": [
      "Bilder verarbeiten:  52%|█████▏    | 2237/4287 [12:58<15:04,  2.27it/s]"
     ]
    },
    {
     "name": "stdout",
     "output_type": "stream",
     "text": [
      "Fehler bei Index 2236: 403 Client Error: Forbidden for url: https://a0.muscache.com/pictures/hosting/Hosting-880224477599489883/original/e9911aa4-5be3-423d-a89a-77a5f294f2a7.jpeg\n"
     ]
    },
    {
     "name": "stderr",
     "output_type": "stream",
     "text": [
      "Bilder verarbeiten:  52%|█████▏    | 2247/4287 [13:03<14:36,  2.33it/s]"
     ]
    },
    {
     "name": "stdout",
     "output_type": "stream",
     "text": [
      "Fehler bei Index 2246: 403 Client Error: Forbidden for url: https://a0.muscache.com/pictures/95816ea6-2be6-458d-b95a-7496086499c6.jpg\n"
     ]
    },
    {
     "name": "stderr",
     "output_type": "stream",
     "text": [
      "Bilder verarbeiten:  53%|█████▎    | 2255/4287 [13:05<09:06,  3.72it/s]"
     ]
    },
    {
     "name": "stdout",
     "output_type": "stream",
     "text": [
      "Fehler bei Index 2254: 403 Client Error: Forbidden for url: https://a0.muscache.com/pictures/miso/Hosting-888119404450561368/original/b2118683-b7a2-4d68-b7b9-370b6d7ba881.jpeg\n"
     ]
    },
    {
     "name": "stderr",
     "output_type": "stream",
     "text": [
      "Bilder verarbeiten:  54%|█████▎    | 2294/4287 [13:15<06:15,  5.31it/s]"
     ]
    },
    {
     "name": "stdout",
     "output_type": "stream",
     "text": [
      "Fehler bei Index 2293: 403 Client Error: Forbidden for url: https://a0.muscache.com/pictures/miso/Hosting-896975034489996943/original/bf0e9bc3-19fa-49eb-a94d-d0783d5e9810.jpeg\n"
     ]
    },
    {
     "name": "stderr",
     "output_type": "stream",
     "text": [
      "Bilder verarbeiten:  54%|█████▎    | 2304/4287 [13:18<07:23,  4.47it/s]"
     ]
    },
    {
     "name": "stdout",
     "output_type": "stream",
     "text": [
      "Fehler bei Index 2302: 403 Client Error: Forbidden for url: https://a0.muscache.com/pictures/miso/Hosting-899804619746283983/original/7dc9e3e1-97f8-4584-be2d-7a8e46131be3.jpeg\n"
     ]
    },
    {
     "name": "stderr",
     "output_type": "stream",
     "text": [
      "Bilder verarbeiten:  54%|█████▍    | 2306/4287 [13:18<06:09,  5.36it/s]"
     ]
    },
    {
     "name": "stdout",
     "output_type": "stream",
     "text": [
      "Fehler bei Index 2304: 403 Client Error: Forbidden for url: https://a0.muscache.com/pictures/miso/Hosting-899809250962686126/original/46c2c4d0-45c0-4dc8-a8d0-95e72355dbbe.jpeg\n"
     ]
    },
    {
     "name": "stderr",
     "output_type": "stream",
     "text": [
      "Bilder verarbeiten:  55%|█████▍    | 2352/4287 [13:38<13:34,  2.38it/s]"
     ]
    },
    {
     "name": "stdout",
     "output_type": "stream",
     "text": [
      "Fehler bei Index 2350: 403 Client Error: Forbidden for url: https://a0.muscache.com/pictures/miso/Hosting-907707902367994809/original/4fe0a3a8-a764-4190-bb2e-49156e48f6ee.jpeg\n",
      "Fehler bei Index 2351: 403 Client Error: Forbidden for url: https://a0.muscache.com/pictures/miso/Hosting-907755458679601976/original/f8a593a4-ecdd-4be7-b142-9a4a13ec9f64.jpeg\n"
     ]
    },
    {
     "name": "stderr",
     "output_type": "stream",
     "text": [
      "Bilder verarbeiten:  57%|█████▋    | 2447/4287 [14:11<10:04,  3.04it/s]"
     ]
    },
    {
     "name": "stdout",
     "output_type": "stream",
     "text": [
      "Fehler bei Index 2445: 403 Client Error: Forbidden for url: https://a0.muscache.com/pictures/miso/Hosting-932295168699504800/original/c76cae89-d68c-4183-9371-808df6032e44.jpeg\n"
     ]
    },
    {
     "name": "stderr",
     "output_type": "stream",
     "text": [
      "Bilder verarbeiten:  58%|█████▊    | 2507/4287 [14:31<07:29,  3.96it/s]"
     ]
    },
    {
     "name": "stdout",
     "output_type": "stream",
     "text": [
      "Fehler bei Index 2506: 403 Client Error: Forbidden for url: https://a0.muscache.com/pictures/miso/Hosting-951232165044837240/original/5f1b34bc-aa8e-4b58-95b4-2033280557a5.jpeg\n"
     ]
    },
    {
     "name": "stderr",
     "output_type": "stream",
     "text": [
      "Bilder verarbeiten:  60%|█████▉    | 2563/4287 [14:48<04:59,  5.75it/s]"
     ]
    },
    {
     "name": "stdout",
     "output_type": "stream",
     "text": [
      "Fehler bei Index 2561: 403 Client Error: Forbidden for url: https://a0.muscache.com/pictures/miso/Hosting-973654859310058277/original/077eb1cb-f84e-4224-bcb6-a01084d1f340.jpeg\n"
     ]
    },
    {
     "name": "stderr",
     "output_type": "stream",
     "text": [
      "Bilder verarbeiten:  61%|██████    | 2603/4287 [15:00<07:19,  3.83it/s]"
     ]
    },
    {
     "name": "stdout",
     "output_type": "stream",
     "text": [
      "Fehler bei Index 2602: 403 Client Error: Forbidden for url: https://a0.muscache.com/pictures/miso/Hosting-982511874228632000/original/2627e418-eb89-4815-8ffe-c3c3d6fcb9fa.jpeg\n"
     ]
    },
    {
     "name": "stderr",
     "output_type": "stream",
     "text": [
      "Bilder verarbeiten:  62%|██████▏   | 2671/4287 [15:22<06:50,  3.94it/s]"
     ]
    },
    {
     "name": "stdout",
     "output_type": "stream",
     "text": [
      "Fehler bei Index 2670: 403 Client Error: Forbidden for url: https://a0.muscache.com/pictures/hosting/Hosting-995615721255872469/original/85df7cd3-4939-4ab7-835c-93131900be6d.jpeg\n"
     ]
    },
    {
     "name": "stderr",
     "output_type": "stream",
     "text": [
      "Bilder verarbeiten:  63%|██████▎   | 2697/4287 [15:29<03:25,  7.72it/s]"
     ]
    },
    {
     "name": "stdout",
     "output_type": "stream",
     "text": [
      "Fehler bei Index 2696: 403 Client Error: Forbidden for url: https://a0.muscache.com/pictures/miso/Hosting-1002122209576337331/original/f0f0d2de-9ae9-4621-99c7-6d501dc63d30.jpeg\n"
     ]
    },
    {
     "name": "stderr",
     "output_type": "stream",
     "text": [
      "Bilder verarbeiten:  63%|██████▎   | 2703/4287 [15:31<06:20,  4.16it/s]"
     ]
    },
    {
     "name": "stdout",
     "output_type": "stream",
     "text": [
      "Fehler bei Index 2702: 403 Client Error: Forbidden for url: https://a0.muscache.com/pictures/miso/Hosting-1003675706379960380/original/59f4268a-3bb7-4c7c-89da-cfaa486333e2.jpeg\n"
     ]
    },
    {
     "name": "stderr",
     "output_type": "stream",
     "text": [
      "Bilder verarbeiten:  63%|██████▎   | 2721/4287 [15:41<15:02,  1.73it/s]"
     ]
    },
    {
     "name": "stdout",
     "output_type": "stream",
     "text": [
      "Fehler bei Index 2720: 403 Client Error: Forbidden for url: https://a0.muscache.com/pictures/miso/Hosting-1006973353752927553/original/f777f541-50c8-47ac-ba64-f8c8917f2fc5.jpeg\n"
     ]
    },
    {
     "name": "stderr",
     "output_type": "stream",
     "text": [
      "Bilder verarbeiten:  64%|██████▍   | 2764/4287 [15:59<09:34,  2.65it/s]"
     ]
    },
    {
     "name": "stdout",
     "output_type": "stream",
     "text": [
      "Fehler bei Index 2763: 403 Client Error: Forbidden for url: https://a0.muscache.com/pictures/miso/Hosting-1022475822958460605/original/78c1bb76-4b7b-42dc-b21c-6c6530f7fb5d.jpeg\n"
     ]
    },
    {
     "name": "stderr",
     "output_type": "stream",
     "text": [
      "Bilder verarbeiten:  67%|██████▋   | 2860/4287 [16:28<05:19,  4.47it/s]"
     ]
    },
    {
     "name": "stdout",
     "output_type": "stream",
     "text": [
      "Fehler bei Index 2858: 403 Client Error: Forbidden for url: https://a0.muscache.com/pictures/miso/Hosting-1047186389339543889/original/f45495e7-de0a-406d-91c1-880397b2bd7e.jpeg\n"
     ]
    },
    {
     "name": "stderr",
     "output_type": "stream",
     "text": [
      "Bilder verarbeiten:  67%|██████▋   | 2861/4287 [16:28<04:57,  4.79it/s]"
     ]
    },
    {
     "name": "stdout",
     "output_type": "stream",
     "text": [
      "Fehler bei Index 2860: 403 Client Error: Forbidden for url: https://a0.muscache.com/pictures/d900a1f2-e397-4027-a51e-b87382c02678.jpg\n"
     ]
    },
    {
     "name": "stderr",
     "output_type": "stream",
     "text": [
      "Bilder verarbeiten:  67%|██████▋   | 2880/4287 [16:40<09:25,  2.49it/s]"
     ]
    },
    {
     "name": "stdout",
     "output_type": "stream",
     "text": [
      "Fehler bei Index 2879: 403 Client Error: Forbidden for url: https://a0.muscache.com/pictures/prohost-api/Hosting-1051312608730839800/original/5d883a73-cb8c-4614-b9e3-97d8fb9b3daf.jpeg\n"
     ]
    },
    {
     "name": "stderr",
     "output_type": "stream",
     "text": [
      "Bilder verarbeiten:  67%|██████▋   | 2885/4287 [16:41<05:41,  4.11it/s]"
     ]
    },
    {
     "name": "stdout",
     "output_type": "stream",
     "text": [
      "Fehler bei Index 2883: 403 Client Error: Forbidden for url: https://a0.muscache.com/pictures/miso/Hosting-1051865026368776563/original/d8e4eefb-60b2-42a8-8771-082ddf2ff02c.jpeg\n"
     ]
    },
    {
     "name": "stderr",
     "output_type": "stream",
     "text": [
      "Bilder verarbeiten:  68%|██████▊   | 2926/4287 [16:56<08:21,  2.72it/s]"
     ]
    },
    {
     "name": "stdout",
     "output_type": "stream",
     "text": [
      "Fehler bei Index 2925: 403 Client Error: Forbidden for url: https://a0.muscache.com/pictures/miso/Hosting-1063620163153231008/original/be8f46ba-d4a5-4c33-b73d-9edcd30f8079.jpeg\n"
     ]
    },
    {
     "name": "stderr",
     "output_type": "stream",
     "text": [
      "Bilder verarbeiten:  69%|██████▊   | 2938/4287 [17:00<05:03,  4.45it/s]"
     ]
    },
    {
     "name": "stdout",
     "output_type": "stream",
     "text": [
      "Fehler bei Index 2936: 403 Client Error: Forbidden for url: https://a0.muscache.com/pictures/hosting/Hosting-1065984746594008359/original/af597e1a-eca3-48cd-8b23-4ea1cbe9330d.jpeg\n"
     ]
    },
    {
     "name": "stderr",
     "output_type": "stream",
     "text": [
      "Bilder verarbeiten:  69%|██████▊   | 2946/4287 [17:01<04:46,  4.68it/s]"
     ]
    },
    {
     "name": "stdout",
     "output_type": "stream",
     "text": [
      "Fehler bei Index 2945: 403 Client Error: Forbidden for url: https://a0.muscache.com/pictures/miso/Hosting-1067887904445790468/original/a77f386b-0386-4261-b013-d124b10d4a62.jpeg\n"
     ]
    },
    {
     "name": "stderr",
     "output_type": "stream",
     "text": [
      "Bilder verarbeiten:  69%|██████▉   | 2966/4287 [17:08<05:10,  4.25it/s]"
     ]
    },
    {
     "name": "stdout",
     "output_type": "stream",
     "text": [
      "Fehler bei Index 2965: 403 Client Error: Forbidden for url: https://a0.muscache.com/pictures/hosting/Hosting-1070953459660751226/original/7343aab1-1225-4999-bf4b-519a512062d5.jpeg\n"
     ]
    },
    {
     "name": "stderr",
     "output_type": "stream",
     "text": [
      "Bilder verarbeiten:  71%|███████   | 3031/4287 [17:33<04:51,  4.31it/s]"
     ]
    },
    {
     "name": "stdout",
     "output_type": "stream",
     "text": [
      "Fehler bei Index 3030: 403 Client Error: Forbidden for url: https://a0.muscache.com/pictures/bdc52561-7a4b-4988-9954-b11ef816d3e5.jpg\n"
     ]
    },
    {
     "name": "stderr",
     "output_type": "stream",
     "text": [
      "Bilder verarbeiten:  73%|███████▎  | 3118/4287 [18:01<06:22,  3.06it/s]"
     ]
    },
    {
     "name": "stdout",
     "output_type": "stream",
     "text": [
      "Fehler bei Index 3117: 403 Client Error: Forbidden for url: https://a0.muscache.com/pictures/miso/Hosting-1103720242443184400/original/2a984b11-ddb9-4f4f-a99a-fe54ce68b59c.jpeg\n"
     ]
    },
    {
     "name": "stderr",
     "output_type": "stream",
     "text": [
      "Bilder verarbeiten:  73%|███████▎  | 3123/4287 [18:03<05:39,  3.43it/s]"
     ]
    },
    {
     "name": "stdout",
     "output_type": "stream",
     "text": [
      "Fehler bei Index 3122: 403 Client Error: Forbidden for url: https://a0.muscache.com/pictures/miso/Hosting-1105607712566993277/original/434169e2-dc50-4364-98b8-5ce155064512.jpeg\n"
     ]
    },
    {
     "name": "stderr",
     "output_type": "stream",
     "text": [
      "Bilder verarbeiten:  73%|███████▎  | 3125/4287 [18:03<05:22,  3.61it/s]"
     ]
    },
    {
     "name": "stdout",
     "output_type": "stream",
     "text": [
      "Fehler bei Index 3124: 403 Client Error: Forbidden for url: https://a0.muscache.com/pictures/miso/Hosting-1105673412821929486/original/093ab444-6f73-4b90-b949-5e1dea771215.jpeg\n"
     ]
    },
    {
     "name": "stderr",
     "output_type": "stream",
     "text": [
      "Bilder verarbeiten:  73%|███████▎  | 3141/4287 [18:09<06:09,  3.10it/s]"
     ]
    },
    {
     "name": "stdout",
     "output_type": "stream",
     "text": [
      "Fehler bei Index 3140: 403 Client Error: Forbidden for url: https://a0.muscache.com/pictures/miso/Hosting-1112170841660040417/original/fb24e466-af57-4d29-a08d-0cd454bf8ef7.jpeg\n"
     ]
    },
    {
     "name": "stderr",
     "output_type": "stream",
     "text": [
      "Bilder verarbeiten:  74%|███████▎  | 3151/4287 [18:13<07:31,  2.52it/s]"
     ]
    },
    {
     "name": "stdout",
     "output_type": "stream",
     "text": [
      "Fehler bei Index 3150: 403 Client Error: Forbidden for url: https://a0.muscache.com/pictures/prohost-api/Hosting-1115224163782979509/original/3357d917-7490-4562-8642-f0f84b9b0491.jpeg\n"
     ]
    },
    {
     "name": "stderr",
     "output_type": "stream",
     "text": [
      "Bilder verarbeiten:  74%|███████▍  | 3193/4287 [18:30<04:47,  3.80it/s]"
     ]
    },
    {
     "name": "stdout",
     "output_type": "stream",
     "text": [
      "Fehler bei Index 3191: 403 Client Error: Forbidden for url: https://a0.muscache.com/pictures/miso/Hosting-1123041242048918532/original/4e5aab68-51c3-4051-9d14-08800c1e5b43.jpeg\n"
     ]
    },
    {
     "name": "stderr",
     "output_type": "stream",
     "text": [
      "Bilder verarbeiten:  75%|███████▌  | 3227/4287 [18:38<03:44,  4.72it/s]"
     ]
    },
    {
     "name": "stdout",
     "output_type": "stream",
     "text": [
      "Fehler bei Index 3226: 403 Client Error: Forbidden for url: https://a0.muscache.com/pictures/hosting/Hosting-1130294057578815114/original/6db1850e-9fb5-4753-bf3c-9b448c9aeb1a.jpeg\n"
     ]
    },
    {
     "name": "stderr",
     "output_type": "stream",
     "text": [
      "Bilder verarbeiten:  75%|███████▌  | 3233/4287 [18:41<06:56,  2.53it/s]"
     ]
    },
    {
     "name": "stdout",
     "output_type": "stream",
     "text": [
      "Fehler bei Index 3232: 403 Client Error: Forbidden for url: https://a0.muscache.com/pictures/miso/Hosting-1131204941488216946/original/1c9c51c3-a3eb-4d78-9710-32a3665fbd8a.jpeg\n"
     ]
    },
    {
     "name": "stderr",
     "output_type": "stream",
     "text": [
      "Bilder verarbeiten:  76%|███████▌  | 3241/4287 [18:43<03:40,  4.74it/s]"
     ]
    },
    {
     "name": "stdout",
     "output_type": "stream",
     "text": [
      "Fehler bei Index 3239: 403 Client Error: Forbidden for url: https://a0.muscache.com/pictures/miso/Hosting-1131854542943037798/original/5f832657-e509-4548-aefd-d28e65c0508c.jpeg\n"
     ]
    },
    {
     "name": "stderr",
     "output_type": "stream",
     "text": [
      "Bilder verarbeiten:  79%|███████▉  | 3387/4287 [19:30<05:00,  2.99it/s]"
     ]
    },
    {
     "name": "stdout",
     "output_type": "stream",
     "text": [
      "Fehler bei Index 3386: 403 Client Error: Forbidden for url: https://a0.muscache.com/pictures/miso/Hosting-1159381564200734878/original/e30333b9-f93e-4f70-9ae0-4f2c74987feb.jpeg\n"
     ]
    },
    {
     "name": "stderr",
     "output_type": "stream",
     "text": [
      "Bilder verarbeiten:  79%|███████▉  | 3404/4287 [19:39<07:53,  1.86it/s]"
     ]
    },
    {
     "name": "stdout",
     "output_type": "stream",
     "text": [
      "Fehler bei Index 3403: 403 Client Error: Forbidden for url: https://a0.muscache.com/pictures/hosting/Hosting-1162086751532631726/original/a5a15088-bf4d-4a19-8006-b4792ba30be5.jpeg\n"
     ]
    },
    {
     "name": "stderr",
     "output_type": "stream",
     "text": [
      "Bilder verarbeiten:  80%|████████  | 3447/4287 [19:57<07:27,  1.88it/s]"
     ]
    },
    {
     "name": "stdout",
     "output_type": "stream",
     "text": [
      "Fehler bei Index 3445: 403 Client Error: Forbidden for url: https://a0.muscache.com/pictures/hosting/Hosting-1169929339258295058/original/f5009130-3d2f-4cf3-ba71-ecdeb1419c94.jpeg\n"
     ]
    },
    {
     "name": "stderr",
     "output_type": "stream",
     "text": [
      "Bilder verarbeiten:  81%|████████  | 3452/4287 [19:59<03:58,  3.50it/s]"
     ]
    },
    {
     "name": "stdout",
     "output_type": "stream",
     "text": [
      "Fehler bei Index 3451: 403 Client Error: Forbidden for url: https://a0.muscache.com/pictures/miso/Hosting-1170780388468042881/original/fdcccce1-5e9f-4b77-a19c-47712fa9bed6.jpeg\n"
     ]
    },
    {
     "name": "stderr",
     "output_type": "stream",
     "text": [
      "Bilder verarbeiten:  81%|████████▏ | 3493/4287 [20:11<02:23,  5.54it/s]"
     ]
    },
    {
     "name": "stdout",
     "output_type": "stream",
     "text": [
      "Fehler bei Index 3492: 403 Client Error: Forbidden for url: https://a0.muscache.com/pictures/miso/Hosting-1177581878741514505/original/ce0d8c57-a159-4ac5-a718-3fa2316824d8.jpeg\n"
     ]
    },
    {
     "name": "stderr",
     "output_type": "stream",
     "text": [
      "Bilder verarbeiten:  82%|████████▏ | 3495/4287 [20:11<02:28,  5.33it/s]"
     ]
    },
    {
     "name": "stdout",
     "output_type": "stream",
     "text": [
      "Fehler bei Index 3493: 403 Client Error: Forbidden for url: https://a0.muscache.com/pictures/hosting/Hosting-1177590375278097933/original/4e1d0149-af2a-4a74-83ed-30ae75b98ed2.jpeg\n"
     ]
    },
    {
     "name": "stderr",
     "output_type": "stream",
     "text": [
      "Bilder verarbeiten:  83%|████████▎ | 3546/4287 [20:31<02:23,  5.16it/s]"
     ]
    },
    {
     "name": "stdout",
     "output_type": "stream",
     "text": [
      "Fehler bei Index 3545: 403 Client Error: Forbidden for url: https://a0.muscache.com/pictures/hosting/Hosting-1188196405685344429/original/e481a960-1576-43c9-8bd7-756f26c66504.jpeg\n"
     ]
    },
    {
     "name": "stderr",
     "output_type": "stream",
     "text": [
      "Bilder verarbeiten:  83%|████████▎ | 3576/4287 [20:39<03:14,  3.65it/s]"
     ]
    },
    {
     "name": "stdout",
     "output_type": "stream",
     "text": [
      "Fehler bei Index 3575: 403 Client Error: Forbidden for url: https://a0.muscache.com/pictures/miso/Hosting-1195660406841039847/original/b7a5a8ef-4a72-484e-8f95-546ebc20998e.jpeg\n"
     ]
    },
    {
     "name": "stderr",
     "output_type": "stream",
     "text": [
      "Bilder verarbeiten:  84%|████████▎ | 3590/4287 [20:42<02:00,  5.80it/s]"
     ]
    },
    {
     "name": "stdout",
     "output_type": "stream",
     "text": [
      "Fehler bei Index 3589: 403 Client Error: Forbidden for url: https://a0.muscache.com/pictures/hosting/Hosting-1197665828038525085/original/d56763d2-5205-45c7-9eda-e54b8fd2bd64.jpeg\n"
     ]
    },
    {
     "name": "stderr",
     "output_type": "stream",
     "text": [
      "Bilder verarbeiten:  84%|████████▍ | 3614/4287 [20:50<07:03,  1.59it/s]"
     ]
    },
    {
     "name": "stdout",
     "output_type": "stream",
     "text": [
      "Fehler bei Index 3613: 403 Client Error: Forbidden for url: https://a0.muscache.com/pictures/hosting/Hosting-1202322545598528475/original/04c4d23f-94bc-49a1-af5f-aa38326e4916.jpeg\n"
     ]
    },
    {
     "name": "stderr",
     "output_type": "stream",
     "text": [
      "Bilder verarbeiten:  85%|████████▍ | 3632/4287 [20:56<01:58,  5.54it/s]"
     ]
    },
    {
     "name": "stdout",
     "output_type": "stream",
     "text": [
      "Fehler bei Index 3630: 403 Client Error: Forbidden for url: https://a0.muscache.com/pictures/hosting/Hosting-1206637618534315026/original/f0bcfc7f-27dc-4558-84cb-627471c0ab19.jpeg\n"
     ]
    },
    {
     "name": "stderr",
     "output_type": "stream",
     "text": [
      "Bilder verarbeiten:  86%|████████▌ | 3679/4287 [21:11<04:07,  2.46it/s]"
     ]
    },
    {
     "name": "stdout",
     "output_type": "stream",
     "text": [
      "Fehler bei Index 3678: 403 Client Error: Forbidden for url: https://a0.muscache.com/pictures/miso/Hosting-1218714113103115874/original/64c98586-6c40-4648-b68e-651d027f3965.jpeg\n"
     ]
    },
    {
     "name": "stderr",
     "output_type": "stream",
     "text": [
      "Bilder verarbeiten:  86%|████████▋ | 3704/4287 [21:21<02:49,  3.43it/s]"
     ]
    },
    {
     "name": "stdout",
     "output_type": "stream",
     "text": [
      "Fehler bei Index 3703: 403 Client Error: Forbidden for url: https://a0.muscache.com/pictures/hosting/Hosting-1224061028452520131/original/53894864-9633-40ec-9ebc-ee57fb2c20ee.jpeg\n"
     ]
    },
    {
     "name": "stderr",
     "output_type": "stream",
     "text": [
      "Bilder verarbeiten:  87%|████████▋ | 3709/4287 [21:23<02:47,  3.45it/s]"
     ]
    },
    {
     "name": "stdout",
     "output_type": "stream",
     "text": [
      "Fehler bei Index 3708: 403 Client Error: Forbidden for url: https://a0.muscache.com/pictures/hosting/Hosting-1226499160948285529/original/28580958-fc34-4143-bb29-582cfc9efd3b.jpeg\n"
     ]
    },
    {
     "name": "stderr",
     "output_type": "stream",
     "text": [
      "Bilder verarbeiten:  87%|████████▋ | 3729/4287 [21:28<01:49,  5.07it/s]"
     ]
    },
    {
     "name": "stdout",
     "output_type": "stream",
     "text": [
      "Fehler bei Index 3728: 403 Client Error: Forbidden for url: https://a0.muscache.com/pictures/hosting/Hosting-1230565915820448019/original/93251893-8f7c-46f4-a18a-128a37bf0258.jpeg\n"
     ]
    },
    {
     "name": "stderr",
     "output_type": "stream",
     "text": [
      "Bilder verarbeiten:  88%|████████▊ | 3790/4287 [21:53<02:04,  3.98it/s]"
     ]
    },
    {
     "name": "stdout",
     "output_type": "stream",
     "text": [
      "Fehler bei Index 3789: 403 Client Error: Forbidden for url: https://a0.muscache.com/pictures/hosting/Hosting-1241053643617008892/original/faae0719-3028-45ca-bf98-edae99d81a39.jpeg\n"
     ]
    },
    {
     "name": "stderr",
     "output_type": "stream",
     "text": [
      "Bilder verarbeiten:  89%|████████▊ | 3795/4287 [21:54<01:50,  4.44it/s]"
     ]
    },
    {
     "name": "stdout",
     "output_type": "stream",
     "text": [
      "Fehler bei Index 3793: 403 Client Error: Forbidden for url: https://a0.muscache.com/pictures/hosting/Hosting-1241447784145552100/original/b88d8854-b770-419f-83a6-07d416c9dfe2.jpeg\n"
     ]
    },
    {
     "name": "stderr",
     "output_type": "stream",
     "text": [
      "Bilder verarbeiten:  89%|████████▉ | 3813/4287 [22:03<03:24,  2.32it/s]"
     ]
    },
    {
     "name": "stdout",
     "output_type": "stream",
     "text": [
      "Fehler bei Index 3811: 403 Client Error: Forbidden for url: https://a0.muscache.com/pictures/miso/Hosting-1241777272759829491/original/e52fa41e-2972-43da-b62a-d2e7799fd470.jpeg\n"
     ]
    },
    {
     "name": "stderr",
     "output_type": "stream",
     "text": [
      "Bilder verarbeiten:  89%|████████▉ | 3815/4287 [22:03<02:28,  3.19it/s]"
     ]
    },
    {
     "name": "stdout",
     "output_type": "stream",
     "text": [
      "Fehler bei Index 3814: 403 Client Error: Forbidden for url: https://a0.muscache.com/pictures/hosting/Hosting-1242736562130460400/original/18b9093b-e292-4e80-b194-2c914c7b29c2.jpeg\n"
     ]
    },
    {
     "name": "stderr",
     "output_type": "stream",
     "text": [
      "Bilder verarbeiten:  89%|████████▉ | 3823/4287 [22:05<01:47,  4.33it/s]"
     ]
    },
    {
     "name": "stdout",
     "output_type": "stream",
     "text": [
      "Fehler bei Index 3822: 403 Client Error: Forbidden for url: https://a0.muscache.com/pictures/hosting/Hosting-1244883194511933966/original/20b74b91-af90-4a57-9e46-b72708155bdf.jpeg\n"
     ]
    },
    {
     "name": "stderr",
     "output_type": "stream",
     "text": [
      "Bilder verarbeiten:  90%|████████▉ | 3837/4287 [22:10<01:31,  4.91it/s]"
     ]
    },
    {
     "name": "stdout",
     "output_type": "stream",
     "text": [
      "Fehler bei Index 3836: 403 Client Error: Forbidden for url: https://a0.muscache.com/pictures/miso/Hosting-1249061441618187834/original/016729b5-8cce-412b-ab53-70abccf69ba2.jpeg\n"
     ]
    },
    {
     "name": "stderr",
     "output_type": "stream",
     "text": [
      "Bilder verarbeiten:  90%|█████████ | 3873/4287 [22:24<02:09,  3.19it/s]"
     ]
    },
    {
     "name": "stdout",
     "output_type": "stream",
     "text": [
      "Fehler bei Index 3872: 403 Client Error: Forbidden for url: https://a0.muscache.com/pictures/miso/Hosting-1260052514550244609/original/d5fda852-0aef-4071-a392-8c0ff806ae66.png\n"
     ]
    },
    {
     "name": "stderr",
     "output_type": "stream",
     "text": [
      "Bilder verarbeiten:  90%|█████████ | 3874/4287 [22:24<01:58,  3.49it/s]"
     ]
    },
    {
     "name": "stdout",
     "output_type": "stream",
     "text": [
      "Fehler bei Index 3873: 403 Client Error: Forbidden for url: https://a0.muscache.com/pictures/hosting/Hosting-1260140299473114921/original/28d79021-7ad2-4be7-9404-2f1222259298.jpeg\n"
     ]
    },
    {
     "name": "stderr",
     "output_type": "stream",
     "text": [
      "Bilder verarbeiten:  90%|█████████ | 3878/4287 [22:25<01:41,  4.03it/s]"
     ]
    },
    {
     "name": "stdout",
     "output_type": "stream",
     "text": [
      "Fehler bei Index 3877: 403 Client Error: Forbidden for url: https://a0.muscache.com/pictures/hosting/Hosting-1260886713274063258/original/ebdecd49-104d-43bd-bfd7-0728be492413.jpeg\n"
     ]
    },
    {
     "name": "stderr",
     "output_type": "stream",
     "text": [
      "Bilder verarbeiten:  91%|█████████ | 3907/4287 [22:33<01:39,  3.81it/s]"
     ]
    },
    {
     "name": "stdout",
     "output_type": "stream",
     "text": [
      "Fehler bei Index 3906: 403 Client Error: Forbidden for url: https://a0.muscache.com/pictures/miso/Hosting-1266790842892978796/original/6c283a3b-cf58-4379-8dc8-0c4a1a378e87.jpeg\n"
     ]
    },
    {
     "name": "stderr",
     "output_type": "stream",
     "text": [
      "Bilder verarbeiten:  93%|█████████▎| 3966/4287 [22:47<00:51,  6.23it/s]"
     ]
    },
    {
     "name": "stdout",
     "output_type": "stream",
     "text": [
      "Fehler bei Index 3965: 403 Client Error: Forbidden for url: https://a0.muscache.com/pictures/prohost-api/Hosting-1277999827098027174/original/dfcbc0d4-05f8-4195-8021-7a27fef5707d.jpeg\n"
     ]
    },
    {
     "name": "stderr",
     "output_type": "stream",
     "text": [
      "Bilder verarbeiten:  93%|█████████▎| 3979/4287 [22:50<00:37,  8.14it/s]"
     ]
    },
    {
     "name": "stdout",
     "output_type": "stream",
     "text": [
      "Fehler bei Index 3976: 403 Client Error: Forbidden for url: https://a0.muscache.com/pictures/prohost-api/Hosting-1278783342210237210/original/fa743de3-7f73-449d-bdeb-ce5f6ab04d68.jpeg\n"
     ]
    },
    {
     "name": "stderr",
     "output_type": "stream",
     "text": [
      "Bilder verarbeiten:  93%|█████████▎| 3984/4287 [22:50<00:39,  7.69it/s]"
     ]
    },
    {
     "name": "stdout",
     "output_type": "stream",
     "text": [
      "Fehler bei Index 3982: 403 Client Error: Forbidden for url: https://a0.muscache.com/pictures/prohost-api/Hosting-1278795098182149449/original/82c2469d-57aa-4dbb-93b6-a6eff4c17ef7.jpeg\n",
      "Fehler bei Index 3983: 403 Client Error: Forbidden for url: https://a0.muscache.com/pictures/prohost-api/Hosting-1278796191528190055/original/5f920bf1-aa72-4217-98c6-8ddc73ecfc73.jpeg\n"
     ]
    },
    {
     "name": "stderr",
     "output_type": "stream",
     "text": [
      "Bilder verarbeiten:  93%|█████████▎| 3985/4287 [22:50<00:40,  7.45it/s]"
     ]
    },
    {
     "name": "stdout",
     "output_type": "stream",
     "text": [
      "Fehler bei Index 3984: 403 Client Error: Forbidden for url: https://a0.muscache.com/pictures/prohost-api/Hosting-1278796196156745201/original/2f3fe687-7ee0-460a-bbd9-5b06c9a1924d.jpeg\n"
     ]
    },
    {
     "name": "stderr",
     "output_type": "stream",
     "text": [
      "Bilder verarbeiten:  93%|█████████▎| 3997/4287 [22:53<00:42,  6.83it/s]"
     ]
    },
    {
     "name": "stdout",
     "output_type": "stream",
     "text": [
      "Fehler bei Index 3994: 403 Client Error: Forbidden for url: https://a0.muscache.com/pictures/hosting/Hosting-1280289420467826890/original/e3010dae-791f-4f88-8cc9-14df00bbebae.jpeg\n"
     ]
    },
    {
     "name": "stderr",
     "output_type": "stream",
     "text": [
      "Bilder verarbeiten:  93%|█████████▎| 4000/4287 [22:56<02:40,  1.79it/s]"
     ]
    },
    {
     "name": "stdout",
     "output_type": "stream",
     "text": [
      "Fehler bei Index 3999: 403 Client Error: Forbidden for url: https://a0.muscache.com/pictures/prohost-api/Hosting-1281183405081694057/original/c9f3f919-976d-4982-ace1-10e231c4f191.jpeg\n"
     ]
    },
    {
     "name": "stderr",
     "output_type": "stream",
     "text": [
      "Bilder verarbeiten:  93%|█████████▎| 4003/4287 [22:57<01:35,  2.98it/s]"
     ]
    },
    {
     "name": "stdout",
     "output_type": "stream",
     "text": [
      "Fehler bei Index 4001: 403 Client Error: Forbidden for url: https://a0.muscache.com/pictures/prohost-api/Hosting-1282245110992193210/original/751ded99-7db7-4377-bb98-671126bd5037.jpeg\n"
     ]
    },
    {
     "name": "stderr",
     "output_type": "stream",
     "text": [
      "Bilder verarbeiten:  94%|█████████▎| 4009/4287 [22:57<00:45,  6.09it/s]"
     ]
    },
    {
     "name": "stdout",
     "output_type": "stream",
     "text": [
      "Fehler bei Index 4007: 403 Client Error: Forbidden for url: https://a0.muscache.com/pictures/prohost-api/Hosting-1282404393421941081/original/8b769598-d059-4805-a6a0-b8dd78a67dc1.jpeg\n"
     ]
    },
    {
     "name": "stderr",
     "output_type": "stream",
     "text": [
      "Bilder verarbeiten:  94%|█████████▎| 4012/4287 [22:58<00:38,  7.18it/s]"
     ]
    },
    {
     "name": "stdout",
     "output_type": "stream",
     "text": [
      "Fehler bei Index 4011: 403 Client Error: Forbidden for url: https://a0.muscache.com/pictures/prohost-api/Hosting-1282415994529234848/original/98b0722a-2762-410a-9948-10812cd4f7fc.jpeg\n"
     ]
    },
    {
     "name": "stderr",
     "output_type": "stream",
     "text": [
      "Bilder verarbeiten:  94%|█████████▎| 4014/4287 [22:58<00:37,  7.36it/s]"
     ]
    },
    {
     "name": "stdout",
     "output_type": "stream",
     "text": [
      "Fehler bei Index 4013: 403 Client Error: Forbidden for url: https://a0.muscache.com/pictures/prohost-api/Hosting-1282425176143600908/original/2c04e18b-999f-4d38-a51b-2f0d4bec146b.jpeg\n"
     ]
    },
    {
     "name": "stderr",
     "output_type": "stream",
     "text": [
      "Bilder verarbeiten:  94%|█████████▍| 4022/4287 [23:00<01:03,  4.16it/s]"
     ]
    },
    {
     "name": "stdout",
     "output_type": "stream",
     "text": [
      "Fehler bei Index 4021: 403 Client Error: Forbidden for url: https://a0.muscache.com/pictures/prohost-api/Hosting-1283814453431618041/original/9269d6ca-8bdf-41e6-8ca1-778a06f9ff6c.jpeg\n"
     ]
    },
    {
     "name": "stderr",
     "output_type": "stream",
     "text": [
      "Bilder verarbeiten:  94%|█████████▍| 4036/4287 [23:03<00:31,  7.95it/s]"
     ]
    },
    {
     "name": "stdout",
     "output_type": "stream",
     "text": [
      "Fehler bei Index 4033: 403 Client Error: Forbidden for url: https://a0.muscache.com/pictures/miso/Hosting-1284324631832295719/original/5d544135-54b6-4a2c-aa6a-cf5930fd7157.jpeg\n"
     ]
    },
    {
     "name": "stderr",
     "output_type": "stream",
     "text": [
      "Bilder verarbeiten:  94%|█████████▍| 4038/4287 [23:03<00:32,  7.72it/s]"
     ]
    },
    {
     "name": "stdout",
     "output_type": "stream",
     "text": [
      "Fehler bei Index 4037: 403 Client Error: Forbidden for url: https://a0.muscache.com/pictures/prohost-api/Hosting-1284431466364288844/original/4dc7dfd7-cebb-414c-b03d-fb1ca0f009d0.jpeg\n"
     ]
    },
    {
     "name": "stderr",
     "output_type": "stream",
     "text": [
      "Bilder verarbeiten:  95%|█████████▍| 4053/4287 [23:06<00:45,  5.16it/s]"
     ]
    },
    {
     "name": "stdout",
     "output_type": "stream",
     "text": [
      "Fehler bei Index 4052: 403 Client Error: Forbidden for url: https://a0.muscache.com/pictures/prohost-api/Hosting-1287520311136686630/original/6f820543-9082-40ad-b8fa-11fda424dcce.jpeg\n"
     ]
    },
    {
     "name": "stderr",
     "output_type": "stream",
     "text": [
      "Bilder verarbeiten:  96%|█████████▌| 4106/4287 [23:26<01:00,  3.01it/s]"
     ]
    },
    {
     "name": "stdout",
     "output_type": "stream",
     "text": [
      "Fehler bei Index 4105: 403 Client Error: Forbidden for url: https://a0.muscache.com/pictures/miso/Hosting-1296500988364762213/original/ab6f75df-ca76-4d08-a44c-b2f1ac59722f.jpeg\n"
     ]
    },
    {
     "name": "stderr",
     "output_type": "stream",
     "text": [
      "Bilder verarbeiten:  96%|█████████▌| 4126/4287 [23:36<01:44,  1.54it/s]"
     ]
    },
    {
     "name": "stdout",
     "output_type": "stream",
     "text": [
      "Fehler bei Index 4125: 403 Client Error: Forbidden for url: https://a0.muscache.com/pictures/miso/Hosting-1299198390422583763/original/a6801d0e-5489-416a-80e9-efd6aa950505.jpeg\n"
     ]
    },
    {
     "name": "stderr",
     "output_type": "stream",
     "text": [
      "Bilder verarbeiten:  96%|█████████▋| 4133/4287 [23:40<01:19,  1.93it/s]"
     ]
    },
    {
     "name": "stdout",
     "output_type": "stream",
     "text": [
      "Fehler bei Index 4132: 403 Client Error: Forbidden for url: https://a0.muscache.com/pictures/hosting/Hosting-1300063507347244040/original/d27755ca-2c66-4c79-9c81-d3c501326413.jpeg\n"
     ]
    },
    {
     "name": "stderr",
     "output_type": "stream",
     "text": [
      "Bilder verarbeiten:  97%|█████████▋| 4147/4287 [23:45<00:45,  3.06it/s]"
     ]
    },
    {
     "name": "stdout",
     "output_type": "stream",
     "text": [
      "Fehler bei Index 4145: 403 Client Error: Forbidden for url: https://a0.muscache.com/pictures/miso/Hosting-1300735625620785336/original/d4b74160-a168-4084-89f1-4f5c0f6848da.jpeg\n",
      "Fehler bei Index 4146: 403 Client Error: Forbidden for url: https://a0.muscache.com/pictures/miso/Hosting-1300735934838859301/original/3e4ea4a3-3210-4546-991f-d90e6973b0d6.jpeg\n"
     ]
    },
    {
     "name": "stderr",
     "output_type": "stream",
     "text": [
      "Bilder verarbeiten:  97%|█████████▋| 4164/4287 [23:57<01:20,  1.53it/s]"
     ]
    },
    {
     "name": "stdout",
     "output_type": "stream",
     "text": [
      "Fehler bei Index 4163: 403 Client Error: Forbidden for url: https://a0.muscache.com/pictures/hosting/Hosting-1301403599789425860/original/5e31152a-2e29-4739-a853-62545a5b5a21.jpeg\n"
     ]
    },
    {
     "name": "stderr",
     "output_type": "stream",
     "text": [
      "Bilder verarbeiten:  98%|█████████▊| 4214/4287 [24:11<00:19,  3.68it/s]"
     ]
    },
    {
     "name": "stdout",
     "output_type": "stream",
     "text": [
      "Fehler bei Index 4213: 403 Client Error: Forbidden for url: https://a0.muscache.com/pictures/miso/Hosting-1308058243175777411/original/19f5587c-baa6-4ee4-bb31-9288f6e52c62.jpeg\n"
     ]
    },
    {
     "name": "stderr",
     "output_type": "stream",
     "text": [
      "Bilder verarbeiten:  99%|█████████▉| 4237/4287 [24:16<00:08,  5.81it/s]"
     ]
    },
    {
     "name": "stdout",
     "output_type": "stream",
     "text": [
      "Fehler bei Index 4235: 403 Client Error: Forbidden for url: https://a0.muscache.com/pictures/miso/Hosting-1310746715882411406/original/0179e52c-fbb9-414e-a3dc-fab313a98995.jpeg\n"
     ]
    },
    {
     "name": "stderr",
     "output_type": "stream",
     "text": [
      "Bilder verarbeiten:  99%|█████████▉| 4250/4287 [24:21<00:09,  4.04it/s]"
     ]
    },
    {
     "name": "stdout",
     "output_type": "stream",
     "text": [
      "Fehler bei Index 4248: 403 Client Error: Forbidden for url: https://a0.muscache.com/pictures/miso/Hosting-1312811418541372760/original/097e1b3a-ffed-4049-a1e7-f587d016bb76.jpeg\n"
     ]
    },
    {
     "name": "stderr",
     "output_type": "stream",
     "text": [
      "Bilder verarbeiten:  99%|█████████▉| 4264/4287 [24:23<00:02,  8.24it/s]"
     ]
    },
    {
     "name": "stdout",
     "output_type": "stream",
     "text": [
      "Fehler bei Index 4262: 403 Client Error: Forbidden for url: https://a0.muscache.com/pictures/miso/Hosting-1313720402807955246/original/b8c7e049-57ef-4eaf-be7b-37c8b50a1abd.jpeg\n"
     ]
    },
    {
     "name": "stderr",
     "output_type": "stream",
     "text": [
      "Bilder verarbeiten: 100%|█████████▉| 4267/4287 [24:24<00:04,  4.30it/s]"
     ]
    },
    {
     "name": "stdout",
     "output_type": "stream",
     "text": [
      "Fehler bei Index 4266: 403 Client Error: Forbidden for url: https://a0.muscache.com/pictures/miso/Hosting-1313755964801228830/original/cc0a9eea-cea9-40f2-8124-622371f75b0c.jpeg\n"
     ]
    },
    {
     "name": "stderr",
     "output_type": "stream",
     "text": [
      "Bilder verarbeiten: 100%|█████████▉| 4272/4287 [24:25<00:02,  5.42it/s]"
     ]
    },
    {
     "name": "stdout",
     "output_type": "stream",
     "text": [
      "Fehler bei Index 4271: 403 Client Error: Forbidden for url: https://a0.muscache.com/pictures/miso/Hosting-1314627390954329482/original/50ca338d-2c70-4368-88ab-38c745499503.jpeg\n"
     ]
    },
    {
     "name": "stderr",
     "output_type": "stream",
     "text": [
      "Bilder verarbeiten: 100%|██████████| 4287/4287 [24:29<00:00,  2.92it/s]\n"
     ]
    },
    {
     "name": "stdout",
     "output_type": "stream",
     "text": [
      "Epoch 1/30, Train Loss: 3.0615, Val Loss: 0.5225\n",
      "Neues bestes Modell gespeichert\n",
      "Epoch 2/30, Train Loss: 0.6919, Val Loss: 0.3454\n",
      "Neues bestes Modell gespeichert\n",
      "Epoch 3/30, Train Loss: 0.5566, Val Loss: 0.2738\n",
      "Neues bestes Modell gespeichert\n",
      "Epoch 4/30, Train Loss: 0.4713, Val Loss: 0.2319\n",
      "Neues bestes Modell gespeichert\n",
      "Epoch 5/30, Train Loss: 0.4289, Val Loss: 0.3056\n",
      "Epoch 6/30, Train Loss: 0.4012, Val Loss: 0.2152\n",
      "Neues bestes Modell gespeichert\n",
      "Epoch 7/30, Train Loss: 0.3848, Val Loss: 0.3074\n",
      "Epoch 8/30, Train Loss: 0.3897, Val Loss: 0.1948\n",
      "Neues bestes Modell gespeichert\n",
      "Epoch 9/30, Train Loss: 0.3487, Val Loss: 0.1876\n",
      "Neues bestes Modell gespeichert\n",
      "Epoch 10/30, Train Loss: 0.3445, Val Loss: 0.1977\n",
      "Epoch 11/30, Train Loss: 0.3652, Val Loss: 0.2539\n",
      "Epoch 12/30, Train Loss: 0.3371, Val Loss: 0.1983\n",
      "Epoch 13/30, Train Loss: 0.3354, Val Loss: 0.1821\n",
      "Neues bestes Modell gespeichert\n",
      "Epoch 14/30, Train Loss: 0.3210, Val Loss: 0.2146\n",
      "Epoch 15/30, Train Loss: 0.3186, Val Loss: 0.1903\n",
      "Epoch 16/30, Train Loss: 0.3097, Val Loss: 0.1947\n",
      "Epoch 17/30, Train Loss: 0.3180, Val Loss: 0.1721\n",
      "Neues bestes Modell gespeichert\n",
      "Epoch 18/30, Train Loss: 0.3029, Val Loss: 0.1712\n",
      "Neues bestes Modell gespeichert\n",
      "Epoch 19/30, Train Loss: 0.2885, Val Loss: 0.1759\n",
      "Epoch 20/30, Train Loss: 0.2962, Val Loss: 0.1923\n",
      "Epoch 21/30, Train Loss: 0.2976, Val Loss: 0.1827\n",
      "Epoch 22/30, Train Loss: 0.2814, Val Loss: 0.1965\n",
      "Epoch 23/30, Train Loss: 0.2869, Val Loss: 0.1750\n",
      "Early stopping triggered\n",
      "Test RMSE (log): 61.8831\n",
      "Test RMSE (real $): 61.88\n",
      "\n",
      "Ergebnistabelle (MLP+CNN):\n",
      " Modell Split  RMSE ($)   R² ($)  MAE ($)  MedAE ($)\n",
      "MLP+CNN  Test 61.883068 0.259904 28.31794  16.693926\n"
     ]
    },
    {
     "data": {
      "image/png": "[encoded data removed]",
      "text/plain": [
       "<Figure size 500x500 with 1 Axes>"
      ]
     },
     "metadata": {},
     "output_type": "display_data"
    },
    {
     "data": {
      "image/png": "[encoded data removed]",
      "text/plain": [
       "<Figure size 600x400 with 1 Axes>"
      ]
     },
     "metadata": {},
     "output_type": "display_data"
    }
   ],
   "source": [
    "import os\n",
    "import pandas as pd\n",
    "import numpy as np\n",
    "import requests\n",
    "from PIL import Image\n",
    "from io import BytesIO\n",
    "import matplotlib.pyplot as plt\n",
    "\n",
    "import torch\n",
    "import torch.nn as nn\n",
    "import torch.optim as optim\n",
    "from torch.utils.data import Dataset, DataLoader\n",
    "from torchvision import transforms\n",
    "\n",
    "from sklearn.impute import SimpleImputer\n",
    "from sklearn.preprocessing import MinMaxScaler, OneHotEncoder\n",
    "from sklearn.model_selection import train_test_split\n",
    "from sklearn.metrics import mean_absolute_error, median_absolute_error, r2_score\n",
    "from tqdm import tqdm\n",
    "\n",
    "\n",
    "class AirbnbPreprocessorAndTrainer:\n",
    "    def __init__(self, csv_path, nrows=1000, image_size=32, batch_size=64, lr=0.001, patience=5, seed=42):\n",
    "        self.csv_path = csv_path\n",
    "        self.nrows = nrows\n",
    "        self.image_size = image_size\n",
    "        self.batch_size = batch_size\n",
    "        self.lr = lr\n",
    "        self.patience = patience\n",
    "\n",
    "        # Reproducibility\n",
    "        self.seed = seed\n",
    "        np.random.seed(seed)\n",
    "        torch.manual_seed(seed)\n",
    "        if torch.cuda.is_available():\n",
    "            torch.cuda.manual_seed_all(seed)\n",
    "\n",
    "        self.device = torch.device(\"cuda\" if torch.cuda.is_available() else \"cpu\")\n",
    "        print(\"Verwende Gerät:\", self.device)\n",
    "\n",
    "        self.scaler = MinMaxScaler()\n",
    "        self.imputer = SimpleImputer(strategy='median')\n",
    "        self.model = None\n",
    "\n",
    "        # Diese werden dynamisch gesetzt\n",
    "        self.feature_columns = None  # Wird in preprocess() gesetzt\n",
    "        \n",
    "        self.image_column = \"picture_url\"\n",
    "        self.target_column = \"price\"\n",
    "        self.extra_columns = [\"id\"]\n",
    "\n",
    "        self.train_loader = None\n",
    "        self.test_loader = None\n",
    "        self.train_dataset = None\n",
    "        self.test_dataset = None\n",
    "        self.df = None\n",
    "        self.images = None\n",
    "\n",
    "    def preprocess(self):\n",
    "        df = pd.read_csv(self.csv_path, nrows=self.nrows)\n",
    "        \n",
    "        # Dynamische Feature-Auswahl: alle Spalten außer Ziel-, Bild- und ID-Spalte\n",
    "        self.feature_columns = [col for col in df.columns \n",
    "                               if col not in [self.image_column, self.target_column, \"id\"]]\n",
    "        \n",
    "        # print(f\"Verwende {len(self.feature_columns)} Features: {self.feature_columns[:10]}...\")  # Zeige erste 10\n",
    "        \n",
    "        needed = self.feature_columns + [self.image_column, self.target_column] + self.extra_columns\n",
    "        df = df[[col for col in needed if col in df.columns]].copy()\n",
    "        \n",
    "        # Drop rows ohne Preis oder Bild\n",
    "        df = df.dropna(subset=[self.target_column, self.image_column])\n",
    "        \n",
    "        # Preis bereinigen\n",
    "        df[self.target_column] = df[self.target_column].astype(str).str.replace(\"[$,]\", \"\", regex=True)\n",
    "        df[self.target_column] = pd.to_numeric(df[self.target_column], errors=\"coerce\")\n",
    "        df = df[df[self.target_column].notna()]\n",
    "        df[self.target_column] = np.log(df[self.target_column])\n",
    "        \n",
    "        # Index nach allen dropna-Operationen zurücksetzen\n",
    "        df = df.reset_index(drop=True)\n",
    "        \n",
    "        # Spalten nach Typ kategorisieren\n",
    "        numeric_cols = df.select_dtypes(include=[np.number]).columns.tolist()\n",
    "        categorical_cols = df.select_dtypes(include=['object', 'bool']).columns.tolist()\n",
    "        \n",
    "        # Entferne Ziel-, Bild- und ID-Spalten aus Features\n",
    "        numeric_cols = [col for col in numeric_cols \n",
    "                       if col not in [self.target_column, \"id\"]]\n",
    "        categorical_cols = [col for col in categorical_cols \n",
    "                           if col not in [self.image_column, \"id\"]]\n",
    "        \n",
    "        print(f\"Numerische Spalten ({len(numeric_cols)}): {numeric_cols[:5]}...\")\n",
    "        print(f\"Kategorische Spalten ({len(categorical_cols)}): {categorical_cols[:5]}...\")\n",
    "        \n",
    "        # Kategorische Variablen verarbeiten\n",
    "        encoded_dfs = []\n",
    "        for col in categorical_cols:\n",
    "            if col in df.columns:\n",
    "                # Boolean-Variablen\n",
    "                unique_vals = set(df[col].dropna().unique())\n",
    "                if df[col].dtype == 'bool' or unique_vals.issubset({'t', 'f', True, False}):\n",
    "                    df[col] = df[col].map({'t': 1, 'f': 0, True: 1, False: 0}).fillna(0).astype(float)\n",
    "                else:\n",
    "                    # One-Hot Encoding für andere kategorische Variablen\n",
    "                    # Nur wenn nicht zu viele unique values\n",
    "                    if df[col].nunique() < 50:  # Maximal 50 kategorien\n",
    "                        encoder = OneHotEncoder(sparse_output=False, handle_unknown=\"ignore\")\n",
    "                        encoded = encoder.fit_transform(df[[col]].fillna('missing'))\n",
    "                        encoded_cols = [f\"{col}_{str(cat).replace(' ', '_')}\" for cat in encoder.categories_[0]]\n",
    "                        encoded_df = pd.DataFrame(encoded, columns=encoded_cols, index=df.index)\n",
    "                        encoded_dfs.append(encoded_df)\n",
    "                        df = df.drop(col, axis=1)\n",
    "                    else:\n",
    "                        # Zu viele Kategorien - entfernen\n",
    "                        # print(f\"Spalte {col} hat {df[col].nunique()} Kategorien - wird entfernt\")\n",
    "                        df = df.drop(col, axis=1)\n",
    "        \n",
    "        # Encoded Features hinzufügen\n",
    "        if encoded_dfs:\n",
    "            df = pd.concat([df] + encoded_dfs, axis=1)\n",
    "        \n",
    "        # Index nach concat wieder zurücksetzen\n",
    "        df = df.reset_index(drop=True)\n",
    "        \n",
    "        # Numerische Imputation - KORRIGIERTE VERSION\n",
    "        numeric_cols_existing = [col for col in numeric_cols if col in df.columns]\n",
    "        \n",
    "        # Filter für Spalten, die nicht nur NaN sind\n",
    "        valid_numeric_cols = []\n",
    "        for col in numeric_cols_existing:\n",
    "            if df[col].notna().any():  # Hat mindestens einen nicht-NaN Wert\n",
    "                valid_numeric_cols.append(col)\n",
    "            else:\n",
    "                # print(f\"Spalte {col} enthält nur fehlende Werte und wird entfernt\")\n",
    "                df = df.drop(col, axis=1)  # Entferne Spalte komplett\n",
    "        \n",
    "        if len(valid_numeric_cols) > 0:\n",
    "            # Erstelle neuen Imputer für den aktuellen DataFrame\n",
    "            current_imputer = SimpleImputer(strategy='median')\n",
    "            numeric_data = df[valid_numeric_cols].copy()\n",
    "            \n",
    "            if numeric_data.shape[0] > 0:\n",
    "                # Imputation direkt auf dem aktuellen DataFrame\n",
    "                imputed_values = current_imputer.fit_transform(numeric_data)\n",
    "                \n",
    "                # WICHTIG: Verwende nur die Spalten, die tatsächlich im Output sind\n",
    "                output_cols = current_imputer.get_feature_names_out(valid_numeric_cols)\n",
    "                \n",
    "                # Zuweisung: nur für Spalten, die tatsächlich imputed wurden\n",
    "                for i, col in enumerate(valid_numeric_cols):\n",
    "                    if i < imputed_values.shape[1]:  # Sicherheitscheck\n",
    "                        df[col] = imputed_values[:, i]\n",
    "        \n",
    "        # Alle Feature-Spalten skalieren (außer Ziel-, Bild- und ID-Spalten)\n",
    "        scale_cols = [col for col in df.columns \n",
    "                      if col not in [self.image_column, self.target_column, \"id\"]]\n",
    "        \n",
    "        if scale_cols and len(scale_cols) > 0:\n",
    "            # Erstelle neuen Scaler für den aktuellen DataFrame\n",
    "            current_scaler = MinMaxScaler()\n",
    "            scale_data = df[scale_cols].copy()\n",
    "            \n",
    "            if scale_data.shape[0] > 0:\n",
    "                scaled_values = current_scaler.fit_transform(scale_data)\n",
    "                \n",
    "                # Zuweisung: gleiche Anzahl Zeilen \n",
    "                for i, col in enumerate(scale_cols):\n",
    "                    if i < scaled_values.shape[1]:  # Sicherheitscheck\n",
    "                        df[col] = scaled_values[:, i]\n",
    "        \n",
    "        # Finale Bereinigung: alle NaN entfernen\n",
    "        df = df.dropna()\n",
    "        df = df.reset_index(drop=True)\n",
    "        \n",
    "        self.df = df\n",
    "        print(f\"Finale Datenform: {df.shape}\")\n",
    "        print(f\"Feature-Spalten: {len(scale_cols)}\")\n",
    "\n",
    "    def process_images(self):\n",
    "        images = []\n",
    "        valid_indices = []\n",
    "\n",
    "        for i, row in tqdm(self.df.iterrows(), total=len(self.df), desc=\"Bilder verarbeiten\"):\n",
    "            try:\n",
    "                url = row[self.image_column]\n",
    "                response = requests.get(url, timeout=5)\n",
    "                response.raise_for_status()\n",
    "\n",
    "                content_type = response.headers.get('Content-Type', '')\n",
    "                if 'image' not in content_type:\n",
    "                    raise ValueError(f\"Kein Bild-Content (Type: {content_type})\")\n",
    "\n",
    "                img = Image.open(BytesIO(response.content)).convert(\"RGB\")\n",
    "                img = img.resize((self.image_size, self.image_size))\n",
    "                images.append(np.array(img))\n",
    "                valid_indices.append(i)\n",
    "            except Exception as e:\n",
    "                print(f\"Fehler bei Index {i}: {e}\")\n",
    "\n",
    "        self.images = np.array(images)\n",
    "        self.df = self.df.iloc[valid_indices].reset_index(drop=True)\n",
    "\n",
    "    def prepare_tensors(self):\n",
    "        feature_cols = [col for col in self.df.columns if col not in [self.image_column, self.target_column, \"id\"]]\n",
    "        X_tab = self.df[feature_cols].values.astype(np.float32)\n",
    "        y = self.df[self.target_column].values.astype(np.float32)\n",
    "\n",
    "        # Train-Test-Split (tabular, images, target)\n",
    "        (X_train_tab, X_test_tab,\n",
    "         X_train_img, X_test_img,\n",
    "         y_train, y_test) = train_test_split(\n",
    "            X_tab, self.images, y, test_size=0.2, random_state=self.seed\n",
    "        )\n",
    "\n",
    "        # Datasets\n",
    "        self.train_dataset = self.AirbnbDataset(X_train_img, X_train_tab, y_train)\n",
    "        self.test_dataset = self.AirbnbDataset(X_test_img, X_test_tab, y_test)\n",
    "\n",
    "        # DataLoader\n",
    "        self.train_loader = DataLoader(self.train_dataset, batch_size=self.batch_size, shuffle=True)\n",
    "        self.test_loader = DataLoader(self.test_dataset, batch_size=self.batch_size, shuffle=False)\n",
    "\n",
    "    class AirbnbDataset(Dataset):\n",
    "        def __init__(self, images, tab_features, prices, transform=None):\n",
    "            self.images = images\n",
    "            self.tab_features = tab_features\n",
    "            self.prices = prices\n",
    "            self.transform = transform or transforms.Compose([\n",
    "                transforms.ToTensor(),\n",
    "                transforms.Normalize(mean=[0.485, 0.456, 0.406],\n",
    "                                     std=[0.229, 0.224, 0.225])\n",
    "            ])\n",
    "\n",
    "        def __len__(self):\n",
    "            return len(self.images)\n",
    "\n",
    "        def __getitem__(self, idx):\n",
    "            img = self.images[idx]\n",
    "            if self.transform:\n",
    "                img = self.transform(img)\n",
    "            tab_data = torch.tensor(self.tab_features[idx], dtype=torch.float32)\n",
    "            price = torch.tensor([self.prices[idx]], dtype=torch.float32)\n",
    "            return (img, tab_data), price\n",
    "\n",
    "    class MultiInputPricePredictor(nn.Module):\n",
    "        def __init__(self, tab_dim):\n",
    "            super().__init__()\n",
    "            # Bild-Zweig (CNN)\n",
    "            self.image_branch = nn.Sequential(\n",
    "                nn.Conv2d(3, 16, kernel_size=3, padding=1),\n",
    "                nn.ReLU(),\n",
    "                nn.MaxPool2d(2),      # 16x16\n",
    "                nn.Conv2d(16, 32, kernel_size=3, padding=1),\n",
    "                nn.ReLU(),\n",
    "                nn.MaxPool2d(2),      # 8x8\n",
    "                nn.Conv2d(32, 64, kernel_size=3, padding=1),\n",
    "                nn.ReLU(),\n",
    "                nn.MaxPool2d(2),      # 4x4\n",
    "                nn.Flatten()\n",
    "            )\n",
    "            \n",
    "            # Erweiterte tabellarische Zweig für viele Features\n",
    "            self.tab_branch = nn.Sequential(\n",
    "                nn.Linear(tab_dim, 128),  # Größere erste Schicht\n",
    "                nn.ReLU(),\n",
    "                nn.Dropout(0.2),\n",
    "                nn.Linear(128, 64),       # Weitere Schicht\n",
    "                nn.ReLU(),\n",
    "                nn.Dropout(0.2),\n",
    "                nn.Linear(64, 32)         # Finale Feature-Dimension\n",
    "            )\n",
    "            \n",
    "            # Gemeinsamer Regressor\n",
    "            self.regressor = nn.Sequential(\n",
    "                nn.Linear(64 * 4 * 4 + 32, 256),  # Größere kombinierte Schicht\n",
    "                nn.ReLU(),\n",
    "                nn.Dropout(0.3),\n",
    "                nn.Linear(256, 128),\n",
    "                nn.ReLU(),\n",
    "                nn.Dropout(0.2),\n",
    "                nn.Linear(128, 1)\n",
    "            )\n",
    "\n",
    "        def forward(self, x):\n",
    "            img, tab = x\n",
    "            img_features = self.image_branch(img)\n",
    "            tab_features = self.tab_branch(tab)\n",
    "            combined = torch.cat((img_features, tab_features), dim=1)\n",
    "            return self.regressor(combined)\n",
    "\n",
    "    def train_model(self, epochs=50):\n",
    "        tab_dim = self.train_dataset.tab_features.shape[1]\n",
    "        model = self.MultiInputPricePredictor(tab_dim).to(self.device)\n",
    "        criterion = nn.MSELoss()\n",
    "        optimizer = optim.Adam(model.parameters(), lr=self.lr)\n",
    "\n",
    "        best_val_loss = float('inf')\n",
    "        patience_counter = 0\n",
    "        train_losses = []\n",
    "        val_losses = []\n",
    "\n",
    "        for epoch in range(epochs):\n",
    "            # Training\n",
    "            model.train()\n",
    "            total_train_loss = 0.0\n",
    "            for (images, tab_data), prices in self.train_loader:\n",
    "                images = images.to(self.device)\n",
    "                tab_data = tab_data.to(self.device)\n",
    "                prices = prices.to(self.device)\n",
    "\n",
    "                optimizer.zero_grad()\n",
    "                outputs = model((images, tab_data))\n",
    "                loss = criterion(outputs, prices)\n",
    "                loss.backward()\n",
    "                optimizer.step()\n",
    "\n",
    "                total_train_loss += loss.item() * images.size(0)\n",
    "\n",
    "            epoch_train_loss = total_train_loss / len(self.train_loader.dataset)\n",
    "            train_losses.append(epoch_train_loss)\n",
    "\n",
    "            # Validation\n",
    "            model.eval()\n",
    "            total_val_loss = 0.0\n",
    "            with torch.no_grad():\n",
    "                for (images, tab_data), prices in self.test_loader:\n",
    "                    images = images.to(self.device)\n",
    "                    tab_data = tab_data.to(self.device)\n",
    "                    prices = prices.to(self.device)\n",
    "\n",
    "                    outputs = model((images, tab_data))\n",
    "                    loss = criterion(outputs, prices)\n",
    "                    total_val_loss += loss.item() * images.size(0)\n",
    "\n",
    "            epoch_val_loss = total_val_loss / len(self.test_loader.dataset)\n",
    "            val_losses.append(epoch_val_loss)\n",
    "\n",
    "            print(f\"Epoch {epoch+1}/{epochs}, Train Loss: {epoch_train_loss:.4f}, Val Loss: {epoch_val_loss:.4f}\")\n",
    "\n",
    "            # Early Stopping\n",
    "            if epoch_val_loss < best_val_loss:\n",
    "                best_val_loss = epoch_val_loss\n",
    "                patience_counter = 0\n",
    "                torch.save(model.state_dict(), 'best_model.pth')\n",
    "                print(\"Neues bestes Modell gespeichert\")\n",
    "            else:\n",
    "                patience_counter += 1\n",
    "                if patience_counter >= self.patience:\n",
    "                    print(\"Early stopping triggered\")\n",
    "                    break\n",
    "\n",
    "        self.model = model\n",
    "        return train_losses, val_losses\n",
    "\n",
    "    def calculate_rmse(self, loader):\n",
    "        \"\"\"\n",
    "        RMSE auf der Original-Preisskala .\n",
    "        \"\"\"\n",
    "        self.model.eval()\n",
    "        all_preds, all_targets = [], []\n",
    "        with torch.no_grad():\n",
    "            for (images, tab_data), prices in loader:\n",
    "                images = images.to(self.device)\n",
    "                tab_data = tab_data.to(self.device)\n",
    "                prices = prices.to(self.device)\n",
    "\n",
    "                outputs = self.model((images, tab_data))\n",
    "                all_preds.extend(outputs.cpu().numpy().flatten())\n",
    "                all_targets.extend(prices.cpu().numpy().flatten())\n",
    "\n",
    "        # zurücktransformieren von log -> price\n",
    "        preds_price = np.exp(np.array(all_preds))\n",
    "        targets_price = np.exp(np.array(all_targets))\n",
    "\n",
    "        rmse = np.sqrt(np.mean((preds_price - targets_price) ** 2))\n",
    "        return rmse\n",
    "\n",
    "\n",
    "    def regression_metrics_real(self, preds_log, targets_log):\n",
    "        \"\"\"\n",
    "        Regression-Metriken auf echter Preis-Skala (nicht log).\n",
    "        \"\"\"\n",
    "        preds_price = np.exp(preds_log)\n",
    "        targets_price = np.exp(targets_log)\n",
    "\n",
    "        mae = mean_absolute_error(targets_price, preds_price)\n",
    "        rmse = np.sqrt(np.mean((preds_price - targets_price) ** 2))\n",
    "        medae = median_absolute_error(targets_price, preds_price)\n",
    "        rme = np.mean((preds_price - targets_price) / targets_price) * 100  # % Error\n",
    "        r2 = r2_score(targets_price, preds_price)\n",
    "\n",
    "        return mae, rmse, medae, rme, r2\n",
    "\n",
    "\n",
    "    def evaluate_loader(self, loader, model, device):\n",
    "        preds, targets = [], []\n",
    "        model.eval()\n",
    "        with torch.no_grad():\n",
    "            for (imgs, tabs), prices in loader:\n",
    "                imgs = imgs.to(device)\n",
    "                tabs = tabs.to(device)\n",
    "                outputs = model((imgs, tabs))\n",
    "                preds.extend(outputs.cpu().numpy().flatten())\n",
    "                targets.extend(prices.cpu().numpy().flatten())\n",
    "        return np.array(preds), np.array(targets)\n",
    "\n",
    "\n",
    "# ------------------ Zusatz: Tabellenmetriken, Plots & Learning-Curve ------------------ #\n",
    "\n",
    "def build_results_row(trainer, split_name, loader):\n",
    "    preds_log, targets_log = trainer.evaluate_loader(loader, trainer.model, trainer.device)\n",
    "    mae, rmse, medae, rme, r2 = trainer.regression_metrics_real(preds_log, targets_log)\n",
    "    return {\n",
    "        \"Modell\": \"MLP+CNN\",\n",
    "        \"Split\": split_name,\n",
    "        \"RMSE ($)\": rmse,\n",
    "        \"R² ($)\": r2,\n",
    "        \"MAE ($)\": mae,\n",
    "        \"MedAE ($)\": medae\n",
    "    }\n",
    "\n",
    "\n",
    "def plot_true_vs_pred_price(trainer, loader, title=\"True vs. Predicted Price – MLP+CNN\", max_price=500):\n",
    "    preds_log, targets_log = trainer.evaluate_loader(loader, trainer.model, trainer.device)\n",
    "    y_true_price = np.exp(targets_log)\n",
    "    preds_price = np.exp(preds_log)\n",
    "\n",
    "    plt.figure(figsize=(5, 5))\n",
    "    plt.scatter(y_true_price, preds_price, alpha=0.4)\n",
    "    plt.plot([0, max_price], [0, max_price], 'r--', label='Ideal')\n",
    "    plt.xlim(0, max_price)\n",
    "    plt.ylim(0, max_price)\n",
    "    plt.xlabel(\"True Price ($)\")\n",
    "    plt.ylabel(\"Predicted Price ($)\")\n",
    "    plt.title(title)\n",
    "    plt.grid(True)\n",
    "    plt.legend()\n",
    "    plt.tight_layout()\n",
    "    plt.show()\n",
    "\n",
    "def plot_learning_curve_pytorch(trainer,\n",
    "                                train_fracs=np.linspace(0.1, 1.0, 10),\n",
    "                                epochs_per_frac=6,\n",
    "                                use_log_rmse=True,\n",
    "                                shuffle=True):\n",
    "    # Volle Trainingsdaten aus dem vorhandenen Dataset\n",
    "    imgs_full = trainer.train_dataset.images\n",
    "    tabs_full = trainer.train_dataset.tab_features\n",
    "    y_full = trainer.train_dataset.prices\n",
    "    n = len(imgs_full)\n",
    "\n",
    "    idx_all = np.arange(n)\n",
    "    if shuffle:\n",
    "        rng = np.random.default_rng(trainer.seed)\n",
    "        rng.shuffle(idx_all)\n",
    "\n",
    "    def make_loader_from_indices(indices):\n",
    "        subset_ds = trainer.AirbnbDataset(imgs_full[indices], tabs_full[indices], y_full[indices])\n",
    "        return DataLoader(subset_ds, batch_size=trainer.batch_size, shuffle=True)\n",
    "\n",
    "    def rmse_on_loader(loader, model):\n",
    "        preds, targets = [], []\n",
    "        model.eval()\n",
    "        with torch.no_grad():\n",
    "            for (imgs_b, tabs_b), y_b in loader:\n",
    "                imgs_b = imgs_b.to(trainer.device)\n",
    "                tabs_b = tabs_b.to(trainer.device)\n",
    "                out = model((imgs_b, tabs_b)).cpu().numpy().flatten()\n",
    "                tg = y_b.cpu().numpy().flatten()\n",
    "                if not use_log_rmse:\n",
    "                    out = np.exp(out)\n",
    "                    tg = np.exp(tg)\n",
    "                preds.extend(out)\n",
    "                targets.extend(tg)\n",
    "        preds = np.array(preds)\n",
    "        targets = np.array(targets)\n",
    "        return np.sqrt(np.mean((preds - targets) ** 2))\n",
    "\n",
    "    train_sizes, train_rmse, val_rmse = [], [], []\n",
    "\n",
    "    for frac in train_fracs:\n",
    "        m = max(1, int(n * frac))\n",
    "        indices = idx_all[:m]\n",
    "        train_loader_frac = make_loader_from_indices(indices)\n",
    "\n",
    "        # Frisches Modell je Trainingsgröße\n",
    "        tab_dim = trainer.train_dataset.tab_features.shape[1]\n",
    "        model = trainer.MultiInputPricePredictor(tab_dim).to(trainer.device)\n",
    "        criterion = nn.MSELoss()\n",
    "        optimizer = optim.Adam(model.parameters(), lr=trainer.lr)\n",
    "\n",
    "        # Kurzes Training pro Größe\n",
    "        for _ in range(epochs_per_frac):\n",
    "            model.train()\n",
    "            for (imgs_b, tabs_b), y_b in train_loader_frac:\n",
    "                imgs_b = imgs_b.to(trainer.device)\n",
    "                tabs_b = tabs_b.to(trainer.device)\n",
    "                y_b = y_b.to(trainer.device)\n",
    "                optimizer.zero_grad()\n",
    "                out = model((imgs_b, tabs_b))\n",
    "                loss = criterion(out, y_b)\n",
    "                loss.backward()\n",
    "                optimizer.step()\n",
    "\n",
    "        train_sizes.append(m)\n",
    "        train_rmse.append(rmse_on_loader(train_loader_frac, model))\n",
    "        val_rmse.append(rmse_on_loader(trainer.test_loader, model))\n",
    "\n",
    "    # Plot\n",
    "    plt.figure(figsize=(6, 4))\n",
    "    plt.plot(train_sizes, train_rmse, 'o-', label=f\"Training RMSE {'(log)' if use_log_rmse else '($)'}\")\n",
    "    plt.plot(train_sizes, val_rmse, 'o-', label=f\"Validation RMSE {'(log)' if use_log_rmse else '($)'}\")\n",
    "    plt.xlabel(\"Trainingsgröße\")\n",
    "    plt.ylabel(f\"RMSE {'(log)' if use_log_rmse else '($)'}\")\n",
    "    plt.title(\"Learning Curve – MLP+CNN\")\n",
    "    plt.legend()\n",
    "    plt.grid(True)\n",
    "    plt.tight_layout()\n",
    "    plt.show()\n",
    "\n",
    "\n",
    "if __name__ == \"__main__\":\n",
    "    # Pfad anpassen\n",
    "    csv_path = \"data/listings.csv.gz\"\n",
    "\n",
    "    # Initialisieren und Daten verarbeiten\n",
    "    trainer = AirbnbPreprocessorAndTrainer(csv_path, nrows=10000, image_size=32, batch_size=64, lr=0.001, patience=5, seed=42)\n",
    "    trainer.preprocess()\n",
    "    trainer.process_images()\n",
    "    trainer.prepare_tensors()\n",
    "\n",
    "    # Trainieren\n",
    "    train_losses, val_losses = trainer.train_model(epochs=30)\n",
    "\n",
    "    # Bestes Modell laden\n",
    "    trainer.model.load_state_dict(torch.load('best_model.pth', map_location=trainer.device))\n",
    "\n",
    "   # Log-RMSE\n",
    "    test_rmse_log = trainer.calculate_rmse(trainer.test_loader)\n",
    "    print(f\"Test RMSE (log): {test_rmse_log:.4f}\")\n",
    "\n",
    "    # RMSE in $ auf echter Skala\n",
    "    test_rmse_real = trainer.calculate_rmse(trainer.test_loader)\n",
    "    print(f\"Test RMSE (real $): {test_rmse_real:.2f}\")\n",
    "\n",
    "\n",
    "    # Tabellenmetriken (nur log)\n",
    "    results = []\n",
    "    results.append(build_results_row(trainer, \"Test\", trainer.test_loader))\n",
    "\n",
    "    results_df = pd.DataFrame(results).sort_values(by=\"RMSE ($)\").reset_index(drop=True)\n",
    "    print(\"\\nErgebnistabelle (MLP+CNN):\")\n",
    "    print(results_df.to_string(index=False))\n",
    "\n",
    "    # True-vs-Predicted-Plots\n",
    "    plot_true_vs_pred_price(trainer, trainer.test_loader, title=\"True vs. Predicted Price – MLP+CNN\", max_price=500)\n",
    "\n",
    "    # Learning-Curve für das PyTorch-Modell (in log scale)\n",
    "    plot_learning_curve_pytorch(trainer,\n",
    "                                train_fracs=np.linspace(0.1, 1.0, 10),\n",
    "                                epochs_per_frac=6,\n",
    "                                use_log_rmse=True,\n",
    "                                shuffle=True)\n"
   ]
  },
  {
   "cell_type": "code",
   "execution_count": null,
   "id": "87bfad5b",
   "metadata": {},
   "outputs": [],
   "source": [
    "####################################"
   ]
  },
  {
   "cell_type": "code",
   "execution_count": 6,
   "id": "5511d512",
   "metadata": {},
   "outputs": [
    {
     "data": {
      "image/png": "[encoded data removed]",
      "text/plain": [
       "<Figure size 600x400 with 1 Axes>"
      ]
     },
     "metadata": {},
     "output_type": "display_data"
    }
   ],
   "source": [
    "plt.figure(figsize=(6,4))\n",
    "plt.plot(train_losses, label=\"Train Loss (log)\")\n",
    "plt.plot(val_losses, label=\"Val Loss (log)\")\n",
    "plt.xlabel(\"Epoch\")\n",
    "plt.ylabel(\"Loss\")\n",
    "plt.title(\"Training/Validation Loss (log)\")\n",
    "plt.legend()\n",
    "plt.grid(True)\n",
    "plt.tight_layout()\n",
    "plt.show()\n"
   ]
  },
  {
   "cell_type": "code",
   "execution_count": null,
   "id": "87ea9936",
   "metadata": {},
   "outputs": [],
   "source": []
  },
  {
   "cell_type": "code",
   "execution_count": 21,
   "id": "336a0f19",
   "metadata": {},
   "outputs": [],
   "source": [
    "import pandas as pd\n",
    "\n",
    "# Methode 1: Direktes Lesen mit pandas\n",
    "df = pd.read_csv(\"data/listings.csv.gz\")\n",
    "\n",
    "# Methode 2: Mit gzip-Modul\n",
    "import gzip\n",
    "with gzip.open(\"data/listings.csv.gz\", \"rt\") as f:\n",
    "    df = pd.read_csv(f)\n",
    "\n",
    "# Methode 3: Spezifizierte Komprimierung\n",
    "df = pd.read_csv(\"data/listings.csv.gz\", compression='gzip')\n"
   ]
  },
  {
   "cell_type": "code",
   "execution_count": 22,
   "id": "74afceac",
   "metadata": {},
   "outputs": [
    {
     "name": "stdout",
     "output_type": "stream",
     "text": [
      "['id', 'listing_url', 'scrape_id', 'last_scraped', 'source', 'name', 'description', 'neighborhood_overview', 'picture_url', 'host_id', 'host_url', 'host_name', 'host_since', 'host_location', 'host_about', 'host_response_time', 'host_response_rate', 'host_acceptance_rate', 'host_is_superhost', 'host_thumbnail_url', 'host_picture_url', 'host_neighbourhood', 'host_listings_count', 'host_total_listings_count', 'host_verifications', 'host_has_profile_pic', 'host_identity_verified', 'neighbourhood', 'neighbourhood_cleansed', 'neighbourhood_group_cleansed', 'latitude', 'longitude', 'property_type', 'room_type', 'accommodates', 'bathrooms', 'bathrooms_text', 'bedrooms', 'beds', 'amenities', 'price', 'minimum_nights', 'maximum_nights', 'minimum_minimum_nights', 'maximum_minimum_nights', 'minimum_maximum_nights', 'maximum_maximum_nights', 'minimum_nights_avg_ntm', 'maximum_nights_avg_ntm', 'calendar_updated', 'has_availability', 'availability_30', 'availability_60', 'availability_90', 'availability_365', 'calendar_last_scraped', 'number_of_reviews', 'number_of_reviews_ltm', 'number_of_reviews_l30d', 'first_review', 'last_review', 'review_scores_rating', 'review_scores_accuracy', 'review_scores_cleanliness', 'review_scores_checkin', 'review_scores_communication', 'review_scores_location', 'review_scores_value', 'license', 'instant_bookable', 'calculated_host_listings_count', 'calculated_host_listings_count_entire_homes', 'calculated_host_listings_count_private_rooms', 'calculated_host_listings_count_shared_rooms', 'reviews_per_month']\n",
      "<class 'pandas.core.frame.DataFrame'>\n",
      "RangeIndex: 4637 entries, 0 to 4636\n",
      "Data columns (total 75 columns):\n",
      " #   Column                                        Non-Null Count  Dtype  \n",
      "---  ------                                        --------------  -----  \n",
      " 0   id                                            4637 non-null   int64  \n",
      " 1   listing_url                                   4637 non-null   object \n",
      " 2   scrape_id                                     4637 non-null   int64  \n",
      " 3   last_scraped                                  4637 non-null   object \n",
      " 4   source                                        4637 non-null   object \n",
      " 5   name                                          4637 non-null   object \n",
      " 6   description                                   4529 non-null   object \n",
      " 7   neighborhood_overview                         1917 non-null   object \n",
      " 8   picture_url                                   4637 non-null   object \n",
      " 9   host_id                                       4637 non-null   int64  \n",
      " 10  host_url                                      4637 non-null   object \n",
      " 11  host_name                                     4637 non-null   object \n",
      " 12  host_since                                    4637 non-null   object \n",
      " 13  host_location                                 3341 non-null   object \n",
      " 14  host_about                                    2210 non-null   object \n",
      " 15  host_response_time                            4141 non-null   object \n",
      " 16  host_response_rate                            4141 non-null   object \n",
      " 17  host_acceptance_rate                          4350 non-null   object \n",
      " 18  host_is_superhost                             4367 non-null   object \n",
      " 19  host_thumbnail_url                            4637 non-null   object \n",
      " 20  host_picture_url                              4637 non-null   object \n",
      " 21  host_neighbourhood                            104 non-null    object \n",
      " 22  host_listings_count                           4637 non-null   int64  \n",
      " 23  host_total_listings_count                     4637 non-null   int64  \n",
      " 24  host_verifications                            4637 non-null   object \n",
      " 25  host_has_profile_pic                          4637 non-null   object \n",
      " 26  host_identity_verified                        4637 non-null   object \n",
      " 27  neighbourhood                                 1917 non-null   object \n",
      " 28  neighbourhood_cleansed                        4637 non-null   object \n",
      " 29  neighbourhood_group_cleansed                  0 non-null      float64\n",
      " 30  latitude                                      4637 non-null   float64\n",
      " 31  longitude                                     4637 non-null   float64\n",
      " 32  property_type                                 4637 non-null   object \n",
      " 33  room_type                                     4637 non-null   object \n",
      " 34  accommodates                                  4637 non-null   int64  \n",
      " 35  bathrooms                                     4299 non-null   float64\n",
      " 36  bathrooms_text                                4637 non-null   object \n",
      " 37  bedrooms                                      4598 non-null   float64\n",
      " 38  beds                                          4292 non-null   float64\n",
      " 39  amenities                                     4637 non-null   object \n",
      " 40  price                                         4287 non-null   object \n",
      " 41  minimum_nights                                4637 non-null   int64  \n",
      " 42  maximum_nights                                4637 non-null   int64  \n",
      " 43  minimum_minimum_nights                        4637 non-null   int64  \n",
      " 44  maximum_minimum_nights                        4637 non-null   int64  \n",
      " 45  minimum_maximum_nights                        4637 non-null   int64  \n",
      " 46  maximum_maximum_nights                        4637 non-null   int64  \n",
      " 47  minimum_nights_avg_ntm                        4637 non-null   float64\n",
      " 48  maximum_nights_avg_ntm                        4637 non-null   float64\n",
      " 49  calendar_updated                              0 non-null      float64\n",
      " 50  has_availability                              4624 non-null   object \n",
      " 51  availability_30                               4637 non-null   int64  \n",
      " 52  availability_60                               4637 non-null   int64  \n",
      " 53  availability_90                               4637 non-null   int64  \n",
      " 54  availability_365                              4637 non-null   int64  \n",
      " 55  calendar_last_scraped                         4637 non-null   object \n",
      " 56  number_of_reviews                             4637 non-null   int64  \n",
      " 57  number_of_reviews_ltm                         4637 non-null   int64  \n",
      " 58  number_of_reviews_l30d                        4637 non-null   int64  \n",
      " 59  first_review                                  4031 non-null   object \n",
      " 60  last_review                                   4031 non-null   object \n",
      " 61  review_scores_rating                          4031 non-null   float64\n",
      " 62  review_scores_accuracy                        4031 non-null   float64\n",
      " 63  review_scores_cleanliness                     4031 non-null   float64\n",
      " 64  review_scores_checkin                         4031 non-null   float64\n",
      " 65  review_scores_communication                   4031 non-null   float64\n",
      " 66  review_scores_location                        4031 non-null   float64\n",
      " 67  review_scores_value                           4031 non-null   float64\n",
      " 68  license                                       4604 non-null   object \n",
      " 69  instant_bookable                              4637 non-null   object \n",
      " 70  calculated_host_listings_count                4637 non-null   int64  \n",
      " 71  calculated_host_listings_count_entire_homes   4637 non-null   int64  \n",
      " 72  calculated_host_listings_count_private_rooms  4637 non-null   int64  \n",
      " 73  calculated_host_listings_count_shared_rooms   4637 non-null   int64  \n",
      " 74  reviews_per_month                             4031 non-null   float64\n",
      "dtypes: float64(17), int64(23), object(35)\n",
      "memory usage: 2.7+ MB\n",
      "None\n",
      "       id                          listing_url       scrape_id last_scraped  \\\n",
      "0  218831  https://www.airbnb.com/rooms/218831  20241225065851   2024-12-25   \n",
      "1  376955  https://www.airbnb.com/rooms/376955  20241225065851   2024-12-25   \n",
      "2  483128  https://www.airbnb.com/rooms/483128  20241225065851   2024-12-25   \n",
      "3  494816  https://www.airbnb.com/rooms/494816  20241225065851   2024-12-25   \n",
      "4  550239  https://www.airbnb.com/rooms/550239  20241225065851   2024-12-25   \n",
      "\n",
      "            source                                            name  \\\n",
      "0      city scrape                              Sea-life apartment   \n",
      "1      city scrape  3 bedroom 145m2 apartment close to the seaside   \n",
      "2      city scrape              Stel's apt in Thessaloniki center!   \n",
      "3  previous scrape             City View Apartment  \"Thessaloniki\"   \n",
      "4      city scrape                  Kripis Studio Thessaloniki No1   \n",
      "\n",
      "                                         description  \\\n",
      "0  Experience the International Film Festival in ...   \n",
      "1  This is a 3 bedroom apartment in a lovely quit...   \n",
      "2                                                NaN   \n",
      "3                                                NaN   \n",
      "4  Located on the ground-floor, this studio inclu...   \n",
      "\n",
      "                               neighborhood_overview  \\\n",
      "0                      Park in front of the building   \n",
      "1                                                NaN   \n",
      "2  The apartment is located in the heart of the c...   \n",
      "3  The area is really close to the city center on...   \n",
      "4  This part of the city is build with traditiona...   \n",
      "\n",
      "                                         picture_url  host_id  ...  \\\n",
      "0  https://a0.muscache.com/pictures/1953829/3a860...   137588  ...   \n",
      "1  https://a0.muscache.com/pictures/miso/Hosting-...  1894819  ...   \n",
      "2  https://a0.muscache.com/pictures/5941836/084cc...  2358521  ...   \n",
      "3  https://a0.muscache.com/pictures/61c5920c-7c3c...  1977386  ...   \n",
      "4  https://a0.muscache.com/pictures/miso/Hosting-...  1193625  ...   \n",
      "\n",
      "  review_scores_communication review_scores_location review_scores_value  \\\n",
      "0                        5.00                   5.00                5.00   \n",
      "1                        4.78                   4.68                4.61   \n",
      "2                        4.95                   4.73                4.75   \n",
      "3                        4.85                   4.46                4.83   \n",
      "4                        5.00                   4.50                4.25   \n",
      "\n",
      "       license instant_bookable calculated_host_listings_count  \\\n",
      "0  00000049330                f                              1   \n",
      "1          NaN                f                              1   \n",
      "2  00000502736                f                              1   \n",
      "3  00001900000                t                             33   \n",
      "4      1133335                t                              6   \n",
      "\n",
      "  calculated_host_listings_count_entire_homes  \\\n",
      "0                                           1   \n",
      "1                                           1   \n",
      "2                                           1   \n",
      "3                                          33   \n",
      "4                                           6   \n",
      "\n",
      "  calculated_host_listings_count_private_rooms  \\\n",
      "0                                            0   \n",
      "1                                            0   \n",
      "2                                            0   \n",
      "3                                            0   \n",
      "4                                            0   \n",
      "\n",
      "  calculated_host_listings_count_shared_rooms reviews_per_month  \n",
      "0                                           0              0.02  \n",
      "1                                           0              0.12  \n",
      "2                                           0              2.63  \n",
      "3                                           0              0.32  \n",
      "4                                           0              0.05  \n",
      "\n",
      "[5 rows x 75 columns]\n",
      "Anzahl Zeilen: 4637, Anzahl Spalten: 75\n"
     ]
    }
   ],
   "source": [
    "# Alle Spaltennamen anzeigen\n",
    "print(df.columns.tolist())\n",
    "\n",
    "# DataFrame-Info anzeigen\n",
    "print(df.info())\n",
    "\n",
    "# Erste paar Zeilen anzeigen\n",
    "print(df.head())\n",
    "\n",
    "# Shape der Daten\n",
    "print(f\"Anzahl Zeilen: {df.shape[0]}, Anzahl Spalten: {df.shape[1]}\")\n"
   ]
  }
 ],
 "metadata": {
  "kernelspec": {
   "display_name": "deepl",
   "language": "python",
   "name": "python3"
  },
  "language_info": {
   "codemirror_mode": {
    "name": "ipython",
    "version": 3
   },
   "file_extension": ".py",
   "mimetype": "text/x-python",
   "name": "python",
   "nbconvert_exporter": "python",
   "pygments_lexer": "ipython3",
   "version": "3.10.13"
  }
 },
 "nbformat": 4,
 "nbformat_minor": 5
}
